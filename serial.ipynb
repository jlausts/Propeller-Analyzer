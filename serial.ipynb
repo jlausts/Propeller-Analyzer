{
 "cells": [
  {
   "cell_type": "code",
   "execution_count": null,
   "id": "28009552",
   "metadata": {},
   "outputs": [],
   "source": [
    "import serial\n",
    "import time\n",
    "\n",
    "class ArduinoReader:\n",
    "    def __init__(self, port: str, baudrate: int = 115200, timeout: float = 1.0):\n",
    "        \"\"\"\n",
    "        port: e.g. 'COM11' on Windows, '/dev/ttyACM0' on Linux\n",
    "        baudrate: match Arduino Serial.begin()\n",
    "        timeout: read timeout in seconds\n",
    "        \"\"\"\n",
    "        self.ser = serial.Serial(port, baudrate=baudrate, timeout=timeout)\n",
    "        # give Arduino time to reset when serial opens\n",
    "        self.data = {'rpm': [], 'sound': [], 'lift': []}\n",
    "        time.sleep(2)\n",
    "\n",
    "    def read_line(self) -> str:\n",
    "        \"\"\"Read one line from Arduino, decode to string.\"\"\"\n",
    "        return list(map(float, self.ser.readline().decode(errors=\"ignore\").strip().split()))\n",
    "\n",
    "    def read_normal(self, n: int = 10) -> dict:\n",
    "        \"\"\"Read n normal entries (Arduino streaming at ~4 Hz).\"\"\"\n",
    "        while len(self.data['rpm']) < n:\n",
    "            line = self.read_line()\n",
    "            if len(line) == 3:\n",
    "                self.data['rpm'].append(line[0])\n",
    "                self.data['sound'].append(line[1])\n",
    "                self.data['lift'].append(line[2])\n",
    "        return self.data\n",
    "    \n",
    "    def request_raw_sound(self) -> list:\n",
    "        \"\"\"\n",
    "        Send 's' to Arduino to trigger burst mode.\n",
    "        Collects until no more burst data arrives.\n",
    "        \"\"\"\n",
    "        self.ser.write(b's')\n",
    "        self.ser.flush()\n",
    "\n",
    "        burst_data = []\n",
    "        last_time = time.time()\n",
    "\n",
    "        while True:\n",
    "            line = self.read_line()\n",
    "            if line:\n",
    "                burst_data.append(line)\n",
    "                last_time = time.time()\n",
    "            else:\n",
    "                # stop when nothing new for 0.2s\n",
    "                if time.time() - last_time > 0.2:\n",
    "                    break\n",
    "        return burst_data[-16000:]\n",
    "\n",
    "    def tare_scale(self):\n",
    "        \"\"\"Send a space character to Arduino (changes behaviour).\"\"\"\n",
    "        self.ser.write(b' ')\n",
    "        self.ser.flush()\n",
    "\n",
    "    def close(self):\n",
    "        \"\"\"Close serial connection.\"\"\"\n",
    "        self.ser.close()\n",
    "\n",
    "    def __enter__(self):\n",
    "        return self\n",
    "\n",
    "    def __exit__(self, exc_type, exc_value, traceback):\n",
    "        self.close()\n"
   ]
  },
  {
   "cell_type": "code",
   "execution_count": 18,
   "id": "98751ac7",
   "metadata": {},
   "outputs": [
    {
     "name": "stdout",
     "output_type": "stream",
     "text": [
      "Reading a few normal entries:\n",
      "1 [0.09]\n",
      "3 [0.0, -48.25, -0.01]\n",
      "3 [0.0, -45.37, 0.03]\n",
      "3 [0.0, -45.84, 0.04]\n",
      "3 [0.0, -45.87, -0.01]\n",
      "3 [0.0, -45.85, 0.01]\n",
      "{'rpm': [0.0, 0.0, 0.0, 0.0, 0.0], 'sound': [-48.25, -45.37, -45.84, -45.87, -45.85], 'lift': [-0.01, 0.03, 0.04, -0.01, 0.01]}\n"
     ]
    }
   ],
   "source": [
    "with ArduinoReader(port=\"COM11\", baudrate=115200) as ar:\n",
    "\n",
    "    print(\"Reading a few normal entries:\")\n",
    "    print(ar.read_normal(5))\n",
    "\n",
    "    # print(\"Requesting burst...\")\n",
    "    # burst = ar.request_raw_sound()\n",
    "    # print(f\"Got {len(burst)} entries in burst\")\n",
    "\n",
    "    # print(\"Sending space...\")\n",
    "    # ar.tare_scale()\n"
   ]
  }
 ],
 "metadata": {
  "kernelspec": {
   "display_name": "Python 3",
   "language": "python",
   "name": "python3"
  },
  "language_info": {
   "codemirror_mode": {
    "name": "ipython",
    "version": 3
   },
   "file_extension": ".py",
   "mimetype": "text/x-python",
   "name": "python",
   "nbconvert_exporter": "python",
   "pygments_lexer": "ipython3",
   "version": "3.11.9"
  }
 },
 "nbformat": 4,
 "nbformat_minor": 5
}
