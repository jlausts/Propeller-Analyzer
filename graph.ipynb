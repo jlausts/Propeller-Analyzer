{
 "cells": [
  {
   "cell_type": "code",
   "execution_count": 15,
   "id": "f3cdd360",
   "metadata": {},
   "outputs": [
    {
     "data": {
      "application/vnd.plotly.v1+json": {
       "config": {
        "plotlyServerURL": "https://plot.ly"
       },
       "data": [
        {
         "hovertemplate": "variable=0<br>index=%{x}<br>value=%{y}<extra></extra>",
         "legendgroup": "0",
         "line": {
          "color": "#636efa",
          "dash": "solid"
         },
         "marker": {
          "symbol": "circle"
         },
         "mode": "lines",
         "name": "0",
         "orientation": "v",
         "showlegend": true,
         "type": "scatter",
         "x": {
          "bdata": "AAABAAIAAwAEAAUABgAHAAgACQAKAAsADAANAA4ADwAQABEAEgATABQAFQAWABcAGAAZABoAGwAcAB0AHgAfACAAIQAiACMAJAAlACYAJwAoACkAKgArACwALQAuAC8AMAAxADIAMwA0ADUANgA3ADgAOQA6ADsAPAA9AD4APwBAAEEAQgBDAEQARQBGAEcASABJAEoASwBMAE0ATgBPAFAAUQBSAFMAVABVAFYAVwBYAFkAWgBbAFwAXQBeAF8AYABhAGIAYwBkAGUAZgBnAGgAaQBqAGsAbABtAG4AbwBwAHEAcgBzAHQAdQB2AHcAeAB5AHoAewB8AH0AfgB/AIAAgQCCAIMAhACFAIYAhwCIAIkAigCLAIwAjQCOAI8AkACRAJIAkwCUAJUAlgCXAJgAmQCaAJsAnACdAJ4AnwCgAKEAogCjAKQApQCmAKcAqACpAKoAqwCsAK0ArgCvALAAsQCyALMAtAC1ALYAtwC4ALkAugC7ALwAvQC+AL8AwADBAMIAwwDEAMUAxgDHAMgAyQDKAMsAzADNAM4AzwDQANEA0gDTANQA1QDWANcA2ADZANoA2wDcAN0A3gDfAOAA4QDiAOMA5ADlAOYA5wDoAOkA6gDrAOwA7QDuAO8A8ADxAPIA8wD0APUA9gD3APgA+QD6APsA/AD9AP4A/wAAAQEBAgEDAQQBBQEGAQcBCAEJAQoBCwEMAQ0BDgEPARABEQESARMBFAEVARYBFwEYARkBGgEbARwBHQEeAR8BIAEhASIBIwEkASUBJgEnASgBKQEqASsBLAEtAS4BLwEwATEBMgEzATQBNQE2ATcBOAE5AToBOwE8AT0BPgE/AUABQQFCAUMBRAFFAUYBRwFIAUkBSgFLAUwBTQFOAU8BUAFRAVIBUwFUAVUBVgFXAVgBWQFaAVsBXAFdAV4BXwFgAWEBYgFjAWQBZQFmAWcBaAFpAWoBawFsAW0BbgFvAXABcQFyAXMBdAF1AXYBdwF4AXkBegF7AXwBfQF+AX8BgAGBAYIBgwGEAYUBhgGHAYgBiQGKAYsBjAGNAY4BjwGQAZEBkgGTAZQBlQGWAZcBmAGZAZoBmwGcAZ0BngGfAaABoQGiAaMBpAGlAaYBpwGoAakBqgGrAawBrQGuAa8BsAGxAbIBswG0AbUBtgG3AbgBuQG6AbsBvAG9Ab4BvwHAAcEBwgHDAcQBxQHGAccByAHJAcoBywHMAc0BzgHPAdAB0QHSAdMB1AHVAdYB",
          "dtype": "i2"
         },
         "xaxis": "x",
         "y": {
          "bdata": "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",
          "dtype": "f8"
         },
         "yaxis": "y"
        }
       ],
       "layout": {
        "height": 500,
        "legend": {
         "title": {
          "text": "variable"
         },
         "tracegroupgap": 0
        },
        "margin": {
         "t": 60
        },
        "template": {
         "data": {
          "bar": [
           {
            "error_x": {
             "color": "#2a3f5f"
            },
            "error_y": {
             "color": "#2a3f5f"
            },
            "marker": {
             "line": {
              "color": "#E5ECF6",
              "width": 0.5
             },
             "pattern": {
              "fillmode": "overlay",
              "size": 10,
              "solidity": 0.2
             }
            },
            "type": "bar"
           }
          ],
          "barpolar": [
           {
            "marker": {
             "line": {
              "color": "#E5ECF6",
              "width": 0.5
             },
             "pattern": {
              "fillmode": "overlay",
              "size": 10,
              "solidity": 0.2
             }
            },
            "type": "barpolar"
           }
          ],
          "carpet": [
           {
            "aaxis": {
             "endlinecolor": "#2a3f5f",
             "gridcolor": "white",
             "linecolor": "white",
             "minorgridcolor": "white",
             "startlinecolor": "#2a3f5f"
            },
            "baxis": {
             "endlinecolor": "#2a3f5f",
             "gridcolor": "white",
             "linecolor": "white",
             "minorgridcolor": "white",
             "startlinecolor": "#2a3f5f"
            },
            "type": "carpet"
           }
          ],
          "choropleth": [
           {
            "colorbar": {
             "outlinewidth": 0,
             "ticks": ""
            },
            "type": "choropleth"
           }
          ],
          "contour": [
           {
            "colorbar": {
             "outlinewidth": 0,
             "ticks": ""
            },
            "colorscale": [
             [
              0,
              "#0d0887"
             ],
             [
              0.1111111111111111,
              "#46039f"
             ],
             [
              0.2222222222222222,
              "#7201a8"
             ],
             [
              0.3333333333333333,
              "#9c179e"
             ],
             [
              0.4444444444444444,
              "#bd3786"
             ],
             [
              0.5555555555555556,
              "#d8576b"
             ],
             [
              0.6666666666666666,
              "#ed7953"
             ],
             [
              0.7777777777777778,
              "#fb9f3a"
             ],
             [
              0.8888888888888888,
              "#fdca26"
             ],
             [
              1,
              "#f0f921"
             ]
            ],
            "type": "contour"
           }
          ],
          "contourcarpet": [
           {
            "colorbar": {
             "outlinewidth": 0,
             "ticks": ""
            },
            "type": "contourcarpet"
           }
          ],
          "heatmap": [
           {
            "colorbar": {
             "outlinewidth": 0,
             "ticks": ""
            },
            "colorscale": [
             [
              0,
              "#0d0887"
             ],
             [
              0.1111111111111111,
              "#46039f"
             ],
             [
              0.2222222222222222,
              "#7201a8"
             ],
             [
              0.3333333333333333,
              "#9c179e"
             ],
             [
              0.4444444444444444,
              "#bd3786"
             ],
             [
              0.5555555555555556,
              "#d8576b"
             ],
             [
              0.6666666666666666,
              "#ed7953"
             ],
             [
              0.7777777777777778,
              "#fb9f3a"
             ],
             [
              0.8888888888888888,
              "#fdca26"
             ],
             [
              1,
              "#f0f921"
             ]
            ],
            "type": "heatmap"
           }
          ],
          "histogram": [
           {
            "marker": {
             "pattern": {
              "fillmode": "overlay",
              "size": 10,
              "solidity": 0.2
             }
            },
            "type": "histogram"
           }
          ],
          "histogram2d": [
           {
            "colorbar": {
             "outlinewidth": 0,
             "ticks": ""
            },
            "colorscale": [
             [
              0,
              "#0d0887"
             ],
             [
              0.1111111111111111,
              "#46039f"
             ],
             [
              0.2222222222222222,
              "#7201a8"
             ],
             [
              0.3333333333333333,
              "#9c179e"
             ],
             [
              0.4444444444444444,
              "#bd3786"
             ],
             [
              0.5555555555555556,
              "#d8576b"
             ],
             [
              0.6666666666666666,
              "#ed7953"
             ],
             [
              0.7777777777777778,
              "#fb9f3a"
             ],
             [
              0.8888888888888888,
              "#fdca26"
             ],
             [
              1,
              "#f0f921"
             ]
            ],
            "type": "histogram2d"
           }
          ],
          "histogram2dcontour": [
           {
            "colorbar": {
             "outlinewidth": 0,
             "ticks": ""
            },
            "colorscale": [
             [
              0,
              "#0d0887"
             ],
             [
              0.1111111111111111,
              "#46039f"
             ],
             [
              0.2222222222222222,
              "#7201a8"
             ],
             [
              0.3333333333333333,
              "#9c179e"
             ],
             [
              0.4444444444444444,
              "#bd3786"
             ],
             [
              0.5555555555555556,
              "#d8576b"
             ],
             [
              0.6666666666666666,
              "#ed7953"
             ],
             [
              0.7777777777777778,
              "#fb9f3a"
             ],
             [
              0.8888888888888888,
              "#fdca26"
             ],
             [
              1,
              "#f0f921"
             ]
            ],
            "type": "histogram2dcontour"
           }
          ],
          "mesh3d": [
           {
            "colorbar": {
             "outlinewidth": 0,
             "ticks": ""
            },
            "type": "mesh3d"
           }
          ],
          "parcoords": [
           {
            "line": {
             "colorbar": {
              "outlinewidth": 0,
              "ticks": ""
             }
            },
            "type": "parcoords"
           }
          ],
          "pie": [
           {
            "automargin": true,
            "type": "pie"
           }
          ],
          "scatter": [
           {
            "fillpattern": {
             "fillmode": "overlay",
             "size": 10,
             "solidity": 0.2
            },
            "type": "scatter"
           }
          ],
          "scatter3d": [
           {
            "line": {
             "colorbar": {
              "outlinewidth": 0,
              "ticks": ""
             }
            },
            "marker": {
             "colorbar": {
              "outlinewidth": 0,
              "ticks": ""
             }
            },
            "type": "scatter3d"
           }
          ],
          "scattercarpet": [
           {
            "marker": {
             "colorbar": {
              "outlinewidth": 0,
              "ticks": ""
             }
            },
            "type": "scattercarpet"
           }
          ],
          "scattergeo": [
           {
            "marker": {
             "colorbar": {
              "outlinewidth": 0,
              "ticks": ""
             }
            },
            "type": "scattergeo"
           }
          ],
          "scattergl": [
           {
            "marker": {
             "colorbar": {
              "outlinewidth": 0,
              "ticks": ""
             }
            },
            "type": "scattergl"
           }
          ],
          "scattermap": [
           {
            "marker": {
             "colorbar": {
              "outlinewidth": 0,
              "ticks": ""
             }
            },
            "type": "scattermap"
           }
          ],
          "scattermapbox": [
           {
            "marker": {
             "colorbar": {
              "outlinewidth": 0,
              "ticks": ""
             }
            },
            "type": "scattermapbox"
           }
          ],
          "scatterpolar": [
           {
            "marker": {
             "colorbar": {
              "outlinewidth": 0,
              "ticks": ""
             }
            },
            "type": "scatterpolar"
           }
          ],
          "scatterpolargl": [
           {
            "marker": {
             "colorbar": {
              "outlinewidth": 0,
              "ticks": ""
             }
            },
            "type": "scatterpolargl"
           }
          ],
          "scatterternary": [
           {
            "marker": {
             "colorbar": {
              "outlinewidth": 0,
              "ticks": ""
             }
            },
            "type": "scatterternary"
           }
          ],
          "surface": [
           {
            "colorbar": {
             "outlinewidth": 0,
             "ticks": ""
            },
            "colorscale": [
             [
              0,
              "#0d0887"
             ],
             [
              0.1111111111111111,
              "#46039f"
             ],
             [
              0.2222222222222222,
              "#7201a8"
             ],
             [
              0.3333333333333333,
              "#9c179e"
             ],
             [
              0.4444444444444444,
              "#bd3786"
             ],
             [
              0.5555555555555556,
              "#d8576b"
             ],
             [
              0.6666666666666666,
              "#ed7953"
             ],
             [
              0.7777777777777778,
              "#fb9f3a"
             ],
             [
              0.8888888888888888,
              "#fdca26"
             ],
             [
              1,
              "#f0f921"
             ]
            ],
            "type": "surface"
           }
          ],
          "table": [
           {
            "cells": {
             "fill": {
              "color": "#EBF0F8"
             },
             "line": {
              "color": "white"
             }
            },
            "header": {
             "fill": {
              "color": "#C8D4E3"
             },
             "line": {
              "color": "white"
             }
            },
            "type": "table"
           }
          ]
         },
         "layout": {
          "annotationdefaults": {
           "arrowcolor": "#2a3f5f",
           "arrowhead": 0,
           "arrowwidth": 1
          },
          "autotypenumbers": "strict",
          "coloraxis": {
           "colorbar": {
            "outlinewidth": 0,
            "ticks": ""
           }
          },
          "colorscale": {
           "diverging": [
            [
             0,
             "#8e0152"
            ],
            [
             0.1,
             "#c51b7d"
            ],
            [
             0.2,
             "#de77ae"
            ],
            [
             0.3,
             "#f1b6da"
            ],
            [
             0.4,
             "#fde0ef"
            ],
            [
             0.5,
             "#f7f7f7"
            ],
            [
             0.6,
             "#e6f5d0"
            ],
            [
             0.7,
             "#b8e186"
            ],
            [
             0.8,
             "#7fbc41"
            ],
            [
             0.9,
             "#4d9221"
            ],
            [
             1,
             "#276419"
            ]
           ],
           "sequential": [
            [
             0,
             "#0d0887"
            ],
            [
             0.1111111111111111,
             "#46039f"
            ],
            [
             0.2222222222222222,
             "#7201a8"
            ],
            [
             0.3333333333333333,
             "#9c179e"
            ],
            [
             0.4444444444444444,
             "#bd3786"
            ],
            [
             0.5555555555555556,
             "#d8576b"
            ],
            [
             0.6666666666666666,
             "#ed7953"
            ],
            [
             0.7777777777777778,
             "#fb9f3a"
            ],
            [
             0.8888888888888888,
             "#fdca26"
            ],
            [
             1,
             "#f0f921"
            ]
           ],
           "sequentialminus": [
            [
             0,
             "#0d0887"
            ],
            [
             0.1111111111111111,
             "#46039f"
            ],
            [
             0.2222222222222222,
             "#7201a8"
            ],
            [
             0.3333333333333333,
             "#9c179e"
            ],
            [
             0.4444444444444444,
             "#bd3786"
            ],
            [
             0.5555555555555556,
             "#d8576b"
            ],
            [
             0.6666666666666666,
             "#ed7953"
            ],
            [
             0.7777777777777778,
             "#fb9f3a"
            ],
            [
             0.8888888888888888,
             "#fdca26"
            ],
            [
             1,
             "#f0f921"
            ]
           ]
          },
          "colorway": [
           "#636efa",
           "#EF553B",
           "#00cc96",
           "#ab63fa",
           "#FFA15A",
           "#19d3f3",
           "#FF6692",
           "#B6E880",
           "#FF97FF",
           "#FECB52"
          ],
          "font": {
           "color": "#2a3f5f"
          },
          "geo": {
           "bgcolor": "white",
           "lakecolor": "white",
           "landcolor": "#E5ECF6",
           "showlakes": true,
           "showland": true,
           "subunitcolor": "white"
          },
          "hoverlabel": {
           "align": "left"
          },
          "hovermode": "closest",
          "mapbox": {
           "style": "light"
          },
          "paper_bgcolor": "white",
          "plot_bgcolor": "#E5ECF6",
          "polar": {
           "angularaxis": {
            "gridcolor": "white",
            "linecolor": "white",
            "ticks": ""
           },
           "bgcolor": "#E5ECF6",
           "radialaxis": {
            "gridcolor": "white",
            "linecolor": "white",
            "ticks": ""
           }
          },
          "scene": {
           "xaxis": {
            "backgroundcolor": "#E5ECF6",
            "gridcolor": "white",
            "gridwidth": 2,
            "linecolor": "white",
            "showbackground": true,
            "ticks": "",
            "zerolinecolor": "white"
           },
           "yaxis": {
            "backgroundcolor": "#E5ECF6",
            "gridcolor": "white",
            "gridwidth": 2,
            "linecolor": "white",
            "showbackground": true,
            "ticks": "",
            "zerolinecolor": "white"
           },
           "zaxis": {
            "backgroundcolor": "#E5ECF6",
            "gridcolor": "white",
            "gridwidth": 2,
            "linecolor": "white",
            "showbackground": true,
            "ticks": "",
            "zerolinecolor": "white"
           }
          },
          "shapedefaults": {
           "line": {
            "color": "#2a3f5f"
           }
          },
          "ternary": {
           "aaxis": {
            "gridcolor": "white",
            "linecolor": "white",
            "ticks": ""
           },
           "baxis": {
            "gridcolor": "white",
            "linecolor": "white",
            "ticks": ""
           },
           "bgcolor": "#E5ECF6",
           "caxis": {
            "gridcolor": "white",
            "linecolor": "white",
            "ticks": ""
           }
          },
          "title": {
           "x": 0.05
          },
          "xaxis": {
           "automargin": true,
           "gridcolor": "white",
           "linecolor": "white",
           "ticks": "",
           "title": {
            "standoff": 15
           },
           "zerolinecolor": "white",
           "zerolinewidth": 2
          },
          "yaxis": {
           "automargin": true,
           "gridcolor": "white",
           "linecolor": "white",
           "ticks": "",
           "title": {
            "standoff": 15
           },
           "zerolinecolor": "white",
           "zerolinewidth": 2
          }
         }
        },
        "width": 1000,
        "xaxis": {
         "anchor": "y",
         "domain": [
          0,
          1
         ],
         "title": {
          "text": "index"
         }
        },
        "yaxis": {
         "anchor": "x",
         "domain": [
          0,
          1
         ],
         "title": {
          "text": "value"
         }
        }
       }
      }
     },
     "metadata": {},
     "output_type": "display_data"
    }
   ],
   "source": [
    "from pathlib import Path\n",
    "import numpy as np, plotly.express as px\n",
    "h = 500\n",
    "\n",
    "ar = np.array([[float(j) for j in i.split()] for i in Path('graph').read_text().replace('\\n\\n', '\\n').replace('\\n\\n', '\\n').splitlines() if i])\n",
    "ar = ar[:,0]\n",
    "\n",
    "ema = 0.93\n",
    "for i in range(1, len(ar)):\n",
    "    ar[i] = ar[i-1] * ema + (1-ema)*ar[i]\n",
    "\n",
    "ar = ar - ar.mean()\n",
    "px.line(ar, width=1000, height=h).show()"
   ]
  },
  {
   "cell_type": "code",
   "execution_count": null,
   "id": "3e904f8b",
   "metadata": {},
   "outputs": [],
   "source": [
    "import numpy as np\n",
    "\n",
    "# A raw sound wave, for example, a sine wave\n",
    "# In practice, this would be data read from a WAV file or recording device\n",
    "# The values typically range from -1 to 1 for a float-based format.\n",
    "raw_sound_wave = ar\n",
    "raw_sound_wave -=raw_sound_wave.mean()\n",
    "\n",
    "# To calculate the RMS:\n",
    "# 1. Square all the values\n",
    "squared_wave = raw_sound_wave ** 2\n",
    "# 2. Find the mean (average) of the squared values\n",
    "mean_squared = np.mean(squared_wave)\n",
    "# 3. Take the square root of the mean\n",
    "rms = np.sqrt(mean_squared)\n",
    "\n",
    "print(f\"RMS value: {20 * np.log10(rms / 4095)}\")\n"
   ]
  },
  {
   "cell_type": "code",
   "execution_count": null,
   "id": "e165da47",
   "metadata": {},
   "outputs": [],
   "source": [
    "def ema(ar, window=11):\n",
    "    df = pd.DataFrame(ar)\n",
    "    result = []\n",
    "    n = len(ar)\n",
    "    half = window // 2\n",
    "    for i in range(n):\n",
    "        # dynamically shrink window near edges\n",
    "        start = max(0, i - half)\n",
    "        end = min(n, i + half + 1)\n",
    "        result.append(df.iloc[start:end, 0].mean())\n",
    "    return np.array(result)"
   ]
  },
  {
   "cell_type": "code",
   "execution_count": 106,
   "id": "1e43afdf",
   "metadata": {},
   "outputs": [],
   "source": [
    "from pathlib import Path\n",
    "import numpy as np, plotly.express as px\n",
    "h = 500\n",
    "\n",
    "ar = np.array([[float(j) for j in i.split()] for i in Path('graph').read_text().replace('\\n\\n', '\\n').replace('\\n\\n', '\\n').splitlines() if i])\n",
    "new_sound = ema(ar[:,1], 30)\n",
    "# px.scatter(x=ar[:,0], y=new_sound, title='rpm vs sound').show()\n",
    "# px.scatter(x=ar[:,0], y=ar[:,2], title='rpm vs lift').show()\n",
    "# px.scatter(x=ar[:,2], y=new_sound, title='lift vs sound').show()\n",
    "rpm = ar[:,0].copy()\n",
    "lift = ar[:,2].copy()\n",
    "\n",
    "no_ring = {'sound': new_sound, 'rpm': rpm, 'lift': lift}"
   ]
  },
  {
   "cell_type": "code",
   "execution_count": 122,
   "id": "4cdf6724",
   "metadata": {},
   "outputs": [],
   "source": [
    "from pathlib import Path\n",
    "import numpy as np, plotly.express as px\n",
    "h = 500\n",
    "\n",
    "ar = np.array([[float(j) for j in i.split()] for i in Path('ring prop').read_text().replace('\\n\\n', '\\n').replace('\\n\\n', '\\n').splitlines() if i])[3:]\n",
    "new_sound = ema(ar[:,1], 30)\n",
    "rpm = ar[:,0].copy()\n",
    "lift = ar[:,2].copy()\n",
    "\n",
    "ring = {'sound': new_sound, 'rpm': rpm, 'lift': lift}"
   ]
  },
  {
   "cell_type": "code",
   "execution_count": 123,
   "id": "82a196a1",
   "metadata": {},
   "outputs": [
    {
     "data": {
      "application/vnd.plotly.v1+json": {
       "config": {
        "plotlyServerURL": "https://plot.ly"
       },
       "data": [
        {
         "hovertemplate": "variable=ring<br>index=%{x}<br>value=%{y}<extra></extra>",
         "legendgroup": "ring",
         "line": {
          "color": "#636efa",
          "dash": "solid"
         },
         "marker": {
          "symbol": "circle"
         },
         "mode": "lines",
         "name": "ring",
         "orientation": "v",
         "showlegend": true,
         "type": "scatter",
         "x": {
          "bdata": "AAABAAIAAwAEAAUABgAHAAgACQAKAAsADAANAA4ADwAQABEAEgATABQAFQAWABcAGAAZABoAGwAcAB0AHgAfACAAIQAiACMAJAAlACYAJwAoACkAKgArACwALQAuAC8AMAAxADIAMwA0ADUANgA3ADgAOQA6ADsAPAA9AD4APwBAAEEAQgBDAEQARQBGAEcASABJAEoASwBMAE0ATgBPAFAAUQBSAFMAVABVAFYAVwBYAFkAWgBbAFwAXQBeAF8AYABhAGIAYwBkAGUAZgBnAGgAaQBqAGsAbABtAG4AbwBwAHEAcgBzAHQAdQB2AHcAeAB5AHoAewB8AH0AfgB/AIAAgQCCAIMAhACFAIYAhwCIAIkAigA=",
          "dtype": "i2"
         },
         "xaxis": "x",
         "y": {
          "bdata": "PQrXo3A94j9mZmZmZmbmP6RwPQrXo+g/pHA9Ctej6D9I4XoUrkfpP3sUrkfheuw/w/UoXI/C7T8fhetRuB7xP3E9CtejcO0/ZmZmZmZm8j/hehSuR+HyPz0K16NwPfI/mpmZmZmZ8T+kcD0K16P0P2ZmZmZmZvY/XI/C9Shc9z+kcD0K16P4P6RwPQrXo/g/MzMzMzMz+z8AAAAAAAD8P9ejcD0K1/s/mpmZmZmZ/T8AAAAAAAAAQFyPwvUoXP8/16NwPQrX/z/NzMzMzMwAQOF6FK5H4QBAexSuR+F6AkAAAAAAAAACQAAAAAAAAAJA16NwPQrXA0DXo3A9CtcDQM3MzMzMzARASOF6FK5HBUBSuB6F61EGQAAAAAAAAAZAMzMzMzMzB0AUrkfhehQIQD0K16NwPQhAZmZmZmZmCEBmZmZmZmYKQOF6FK5H4QpAMzMzMzMzC0BSuB6F61EMQKRwPQrXowxA4XoUrkfhDECPwvUoXI8OQEjhehSuRw9ASOF6FK5HEEApXI/C9SgQQFK4HoXrURBAexSuR+F6EECuR+F6FK4RQB+F61G4HhJAMzMzMzMzEkCamZmZmZkSQM3MzMzMzBJACtejcD0KE0BI4XoUrkcTQI/C9ShcjxNAXI/C9ShcFEC4HoXrUbgUQClcj8L1KBVAj8L1KFyPFEC4HoXrUbgVQD0K16NwPRZAzczMzMzMFkAAAAAAAAAXQNejcD0K1xdAw/UoXI/CF0Bcj8L1KFwYQGZmZmZmZhhASOF6FK5HGUApXI/C9SgZQKRwPQrXoxpACtejcD0KG0DNzMzMzMwaQHE9CtejcBtASOF6FK5HG0D2KFyPwvUbQOF6FK5H4RtAmpmZmZmZHEBmZmZmZmYdQEjhehSuRx5AexSuR+F6HUBSuB6F61EdQKRwPQrXox5A9ihcj8L1H0AK16NwPQogQPYoXI/C9R9AXI/C9ShcIEAfhetRuB4gQNejcD0K1yBASOF6FK5HIUAfhetRuJ4hQGZmZmZm5iFAAAAAAAAAIkAK16NwPQoiQFK4HoXrUSJASOF6FK7HIkApXI/C9agiQArXo3A9CiNAw/UoXI9CI0A9CtejcL0jQHE9CtejcCRAMzMzMzMzJEAfhetRuB4kQK5H4XoUriRAhetRuB4FJUBxPQrXo/AkQAAAAAAAACVAw/UoXI9CJUCPwvUoXI8lQClcj8L1KCZAmpmZmZkZJkDsUbgehesmQB+F61G4niZAcT0K16NwJ0DXo3A9CtcmQClcj8L1qCdAXI/C9ShcKEDNzMzMzEwoQGZmZmZm5ihAhetRuB6FKECkcD0K1yMpQAAAAAAAgClAmpmZmZmZKUC4HoXrUbgpQK5H4XoUripA4XoUrkfhKkAAAAAAAIAqQBSuR+F6FCtAj8L1KFwPK0DXo3A9ClcrQB+F61G4HixA16NwPQpXLEB7FK5H4fosQDMzMzMzMyxASOF6FK5HLEA=",
          "dtype": "f8"
         },
         "yaxis": "y"
        },
        {
         "hovertemplate": "variable=no ring<br>index=%{x}<br>value=%{y}<extra></extra>",
         "legendgroup": "no ring",
         "line": {
          "color": "#EF553B",
          "dash": "solid"
         },
         "marker": {
          "symbol": "circle"
         },
         "mode": "lines",
         "name": "no ring",
         "orientation": "v",
         "showlegend": true,
         "type": "scatter",
         "x": {
          "bdata": "AAABAAIAAwAEAAUABgAHAAgACQAKAAsADAANAA4ADwAQABEAEgATABQAFQAWABcAGAAZABoAGwAcAB0AHgAfACAAIQAiACMAJAAlACYAJwAoACkAKgArACwALQAuAC8AMAAxADIAMwA0ADUANgA3ADgAOQA6ADsAPAA9AD4APwBAAEEAQgBDAEQARQBGAEcASABJAEoASwBMAE0ATgBPAFAAUQBSAFMAVABVAFYAVwBYAFkAWgBbAFwAXQBeAF8AYABhAGIAYwBkAGUAZgBnAGgAaQBqAGsAbABtAG4AbwBwAHEAcgBzAHQAdQB2AHcAeAB5AHoAewB8AH0AfgB/AIAAgQCCAIMAhACFAIYAhwCIAIkAigA=",
          "dtype": "i2"
         },
         "xaxis": "x",
         "y": {
          "bdata": "FK5H4XoU5j+4HoXrUbjmP0jhehSuR+k/exSuR+F67D8K16NwPQrvP7gehetRuO4/SOF6FK5H8T+4HoXrUbjuP0jhehSuR/E/H4XrUbge9T/NzMzMzMz0P/YoXI/C9fQ/PQrXo3A99j+PwvUoXI/2P83MzMzMzPQ/w/UoXI/C+T8zMzMzMzP7PwAAAAAAAPw/zczMzMzM/D89CtejcD3+P1K4HoXrUQBAexSuR+F6AEDsUbgehesBQBSuR+F6FAJACtejcD0KA0C4HoXrUbgCQClcj8L1KAJAexSuR+F6BEDNzMzMzMwEQBSuR+F6FAZA16NwPQrXBUDsUbgehesFQBSuR+F6FAZA16NwPQrXB0BmZmZmZmYIQEjhehSuRwlApHA9CtejCkD2KFyPwvUKQIXrUbgehQtAH4XrUbgeDUAzMzMzMzMNQI/C9ShcjwxA4XoUrkfhDkCamZmZmZkPQArXo3A9ChBAZmZmZmZmEEBI4XoUrkcQQOF6FK5H4RBACtejcD0KEEA9CtejcD0SQHsUrkfhehFA9ihcj8L1EUBmZmZmZmYSQNejcD0K1xJASOF6FK5HE0BI4XoUrkcTQClcj8L1KBNAH4XrUbgeFECkcD0K16MUQGZmZmZmZhRAhetRuB6FFEBSuB6F61EWQPYoXI/C9RVAH4XrUbgeF0AzMzMzMzMXQLgehetRuBdAFK5H4XoUGEAzMzMzMzMYQHE9CtejcBhACtejcD0KGUCuR+F6FK4ZQHsUrkfhehlAMzMzMzMzGkBxPQrXo3AaQOxRuB6F6xpAcT0K16NwG0DD9Shcj8IcQPYoXI/C9R1Aj8L1KFyPHUC4HoXrUbgdQFK4HoXrUR5A16NwPQrXHkDXo3A9ClcgQBSuR+F6FCBA16NwPQpXIEC4HoXrUbggQArXo3A9CiFAuB6F61G4IEC4HoXrUTghQK5H4XoUriFA16NwPQrXIUBmZmZmZuYhQDMzMzMzMyJAuB6F61E4IkAzMzMzM7MiQArXo3A9iiJAAAAAAACAI0B7FK5H4XojQGZmZmZmZiNAcT0K16PwI0D2KFyPwvUjQM3MzMzMzCRAhetRuB4FJEBcj8L1KFwkQNejcD0KVyRAKVyPwvWoJEBxPQrXo3AlQClcj8L1qCVAcT0K16PwJUC4HoXrUTgmQKRwPQrXIyZAAAAAAAAAJkBI4XoUrsclQIXrUbgeBSZAcT0K16NwJkBmZmZmZmYnQPYoXI/CdShAcT0K16NwKEBSuB6F69EoQK5H4XoULilA7FG4HoVrKUCuR+F6FK4pQKRwPQrXIypAmpmZmZkZKkA9CtejcD0pQEjhehSuxylASOF6FK5HKkCkcD0K16MqQBSuR+F6lCtAw/UoXI/CKkCF61G4HgUsQK5H4XoULitAuB6F61E4LEBcj8L1KNwrQBSuR+F6FCxAcT0K16PwLEBI4XoUrkcsQHE9CtejcC1A4XoUrkfhLUA=",
          "dtype": "f8"
         },
         "yaxis": "y"
        }
       ],
       "layout": {
        "legend": {
         "title": {
          "text": "variable"
         },
         "tracegroupgap": 0
        },
        "template": {
         "data": {
          "bar": [
           {
            "error_x": {
             "color": "#2a3f5f"
            },
            "error_y": {
             "color": "#2a3f5f"
            },
            "marker": {
             "line": {
              "color": "#E5ECF6",
              "width": 0.5
             },
             "pattern": {
              "fillmode": "overlay",
              "size": 10,
              "solidity": 0.2
             }
            },
            "type": "bar"
           }
          ],
          "barpolar": [
           {
            "marker": {
             "line": {
              "color": "#E5ECF6",
              "width": 0.5
             },
             "pattern": {
              "fillmode": "overlay",
              "size": 10,
              "solidity": 0.2
             }
            },
            "type": "barpolar"
           }
          ],
          "carpet": [
           {
            "aaxis": {
             "endlinecolor": "#2a3f5f",
             "gridcolor": "white",
             "linecolor": "white",
             "minorgridcolor": "white",
             "startlinecolor": "#2a3f5f"
            },
            "baxis": {
             "endlinecolor": "#2a3f5f",
             "gridcolor": "white",
             "linecolor": "white",
             "minorgridcolor": "white",
             "startlinecolor": "#2a3f5f"
            },
            "type": "carpet"
           }
          ],
          "choropleth": [
           {
            "colorbar": {
             "outlinewidth": 0,
             "ticks": ""
            },
            "type": "choropleth"
           }
          ],
          "contour": [
           {
            "colorbar": {
             "outlinewidth": 0,
             "ticks": ""
            },
            "colorscale": [
             [
              0,
              "#0d0887"
             ],
             [
              0.1111111111111111,
              "#46039f"
             ],
             [
              0.2222222222222222,
              "#7201a8"
             ],
             [
              0.3333333333333333,
              "#9c179e"
             ],
             [
              0.4444444444444444,
              "#bd3786"
             ],
             [
              0.5555555555555556,
              "#d8576b"
             ],
             [
              0.6666666666666666,
              "#ed7953"
             ],
             [
              0.7777777777777778,
              "#fb9f3a"
             ],
             [
              0.8888888888888888,
              "#fdca26"
             ],
             [
              1,
              "#f0f921"
             ]
            ],
            "type": "contour"
           }
          ],
          "contourcarpet": [
           {
            "colorbar": {
             "outlinewidth": 0,
             "ticks": ""
            },
            "type": "contourcarpet"
           }
          ],
          "heatmap": [
           {
            "colorbar": {
             "outlinewidth": 0,
             "ticks": ""
            },
            "colorscale": [
             [
              0,
              "#0d0887"
             ],
             [
              0.1111111111111111,
              "#46039f"
             ],
             [
              0.2222222222222222,
              "#7201a8"
             ],
             [
              0.3333333333333333,
              "#9c179e"
             ],
             [
              0.4444444444444444,
              "#bd3786"
             ],
             [
              0.5555555555555556,
              "#d8576b"
             ],
             [
              0.6666666666666666,
              "#ed7953"
             ],
             [
              0.7777777777777778,
              "#fb9f3a"
             ],
             [
              0.8888888888888888,
              "#fdca26"
             ],
             [
              1,
              "#f0f921"
             ]
            ],
            "type": "heatmap"
           }
          ],
          "histogram": [
           {
            "marker": {
             "pattern": {
              "fillmode": "overlay",
              "size": 10,
              "solidity": 0.2
             }
            },
            "type": "histogram"
           }
          ],
          "histogram2d": [
           {
            "colorbar": {
             "outlinewidth": 0,
             "ticks": ""
            },
            "colorscale": [
             [
              0,
              "#0d0887"
             ],
             [
              0.1111111111111111,
              "#46039f"
             ],
             [
              0.2222222222222222,
              "#7201a8"
             ],
             [
              0.3333333333333333,
              "#9c179e"
             ],
             [
              0.4444444444444444,
              "#bd3786"
             ],
             [
              0.5555555555555556,
              "#d8576b"
             ],
             [
              0.6666666666666666,
              "#ed7953"
             ],
             [
              0.7777777777777778,
              "#fb9f3a"
             ],
             [
              0.8888888888888888,
              "#fdca26"
             ],
             [
              1,
              "#f0f921"
             ]
            ],
            "type": "histogram2d"
           }
          ],
          "histogram2dcontour": [
           {
            "colorbar": {
             "outlinewidth": 0,
             "ticks": ""
            },
            "colorscale": [
             [
              0,
              "#0d0887"
             ],
             [
              0.1111111111111111,
              "#46039f"
             ],
             [
              0.2222222222222222,
              "#7201a8"
             ],
             [
              0.3333333333333333,
              "#9c179e"
             ],
             [
              0.4444444444444444,
              "#bd3786"
             ],
             [
              0.5555555555555556,
              "#d8576b"
             ],
             [
              0.6666666666666666,
              "#ed7953"
             ],
             [
              0.7777777777777778,
              "#fb9f3a"
             ],
             [
              0.8888888888888888,
              "#fdca26"
             ],
             [
              1,
              "#f0f921"
             ]
            ],
            "type": "histogram2dcontour"
           }
          ],
          "mesh3d": [
           {
            "colorbar": {
             "outlinewidth": 0,
             "ticks": ""
            },
            "type": "mesh3d"
           }
          ],
          "parcoords": [
           {
            "line": {
             "colorbar": {
              "outlinewidth": 0,
              "ticks": ""
             }
            },
            "type": "parcoords"
           }
          ],
          "pie": [
           {
            "automargin": true,
            "type": "pie"
           }
          ],
          "scatter": [
           {
            "fillpattern": {
             "fillmode": "overlay",
             "size": 10,
             "solidity": 0.2
            },
            "type": "scatter"
           }
          ],
          "scatter3d": [
           {
            "line": {
             "colorbar": {
              "outlinewidth": 0,
              "ticks": ""
             }
            },
            "marker": {
             "colorbar": {
              "outlinewidth": 0,
              "ticks": ""
             }
            },
            "type": "scatter3d"
           }
          ],
          "scattercarpet": [
           {
            "marker": {
             "colorbar": {
              "outlinewidth": 0,
              "ticks": ""
             }
            },
            "type": "scattercarpet"
           }
          ],
          "scattergeo": [
           {
            "marker": {
             "colorbar": {
              "outlinewidth": 0,
              "ticks": ""
             }
            },
            "type": "scattergeo"
           }
          ],
          "scattergl": [
           {
            "marker": {
             "colorbar": {
              "outlinewidth": 0,
              "ticks": ""
             }
            },
            "type": "scattergl"
           }
          ],
          "scattermap": [
           {
            "marker": {
             "colorbar": {
              "outlinewidth": 0,
              "ticks": ""
             }
            },
            "type": "scattermap"
           }
          ],
          "scattermapbox": [
           {
            "marker": {
             "colorbar": {
              "outlinewidth": 0,
              "ticks": ""
             }
            },
            "type": "scattermapbox"
           }
          ],
          "scatterpolar": [
           {
            "marker": {
             "colorbar": {
              "outlinewidth": 0,
              "ticks": ""
             }
            },
            "type": "scatterpolar"
           }
          ],
          "scatterpolargl": [
           {
            "marker": {
             "colorbar": {
              "outlinewidth": 0,
              "ticks": ""
             }
            },
            "type": "scatterpolargl"
           }
          ],
          "scatterternary": [
           {
            "marker": {
             "colorbar": {
              "outlinewidth": 0,
              "ticks": ""
             }
            },
            "type": "scatterternary"
           }
          ],
          "surface": [
           {
            "colorbar": {
             "outlinewidth": 0,
             "ticks": ""
            },
            "colorscale": [
             [
              0,
              "#0d0887"
             ],
             [
              0.1111111111111111,
              "#46039f"
             ],
             [
              0.2222222222222222,
              "#7201a8"
             ],
             [
              0.3333333333333333,
              "#9c179e"
             ],
             [
              0.4444444444444444,
              "#bd3786"
             ],
             [
              0.5555555555555556,
              "#d8576b"
             ],
             [
              0.6666666666666666,
              "#ed7953"
             ],
             [
              0.7777777777777778,
              "#fb9f3a"
             ],
             [
              0.8888888888888888,
              "#fdca26"
             ],
             [
              1,
              "#f0f921"
             ]
            ],
            "type": "surface"
           }
          ],
          "table": [
           {
            "cells": {
             "fill": {
              "color": "#EBF0F8"
             },
             "line": {
              "color": "white"
             }
            },
            "header": {
             "fill": {
              "color": "#C8D4E3"
             },
             "line": {
              "color": "white"
             }
            },
            "type": "table"
           }
          ]
         },
         "layout": {
          "annotationdefaults": {
           "arrowcolor": "#2a3f5f",
           "arrowhead": 0,
           "arrowwidth": 1
          },
          "autotypenumbers": "strict",
          "coloraxis": {
           "colorbar": {
            "outlinewidth": 0,
            "ticks": ""
           }
          },
          "colorscale": {
           "diverging": [
            [
             0,
             "#8e0152"
            ],
            [
             0.1,
             "#c51b7d"
            ],
            [
             0.2,
             "#de77ae"
            ],
            [
             0.3,
             "#f1b6da"
            ],
            [
             0.4,
             "#fde0ef"
            ],
            [
             0.5,
             "#f7f7f7"
            ],
            [
             0.6,
             "#e6f5d0"
            ],
            [
             0.7,
             "#b8e186"
            ],
            [
             0.8,
             "#7fbc41"
            ],
            [
             0.9,
             "#4d9221"
            ],
            [
             1,
             "#276419"
            ]
           ],
           "sequential": [
            [
             0,
             "#0d0887"
            ],
            [
             0.1111111111111111,
             "#46039f"
            ],
            [
             0.2222222222222222,
             "#7201a8"
            ],
            [
             0.3333333333333333,
             "#9c179e"
            ],
            [
             0.4444444444444444,
             "#bd3786"
            ],
            [
             0.5555555555555556,
             "#d8576b"
            ],
            [
             0.6666666666666666,
             "#ed7953"
            ],
            [
             0.7777777777777778,
             "#fb9f3a"
            ],
            [
             0.8888888888888888,
             "#fdca26"
            ],
            [
             1,
             "#f0f921"
            ]
           ],
           "sequentialminus": [
            [
             0,
             "#0d0887"
            ],
            [
             0.1111111111111111,
             "#46039f"
            ],
            [
             0.2222222222222222,
             "#7201a8"
            ],
            [
             0.3333333333333333,
             "#9c179e"
            ],
            [
             0.4444444444444444,
             "#bd3786"
            ],
            [
             0.5555555555555556,
             "#d8576b"
            ],
            [
             0.6666666666666666,
             "#ed7953"
            ],
            [
             0.7777777777777778,
             "#fb9f3a"
            ],
            [
             0.8888888888888888,
             "#fdca26"
            ],
            [
             1,
             "#f0f921"
            ]
           ]
          },
          "colorway": [
           "#636efa",
           "#EF553B",
           "#00cc96",
           "#ab63fa",
           "#FFA15A",
           "#19d3f3",
           "#FF6692",
           "#B6E880",
           "#FF97FF",
           "#FECB52"
          ],
          "font": {
           "color": "#2a3f5f"
          },
          "geo": {
           "bgcolor": "white",
           "lakecolor": "white",
           "landcolor": "#E5ECF6",
           "showlakes": true,
           "showland": true,
           "subunitcolor": "white"
          },
          "hoverlabel": {
           "align": "left"
          },
          "hovermode": "closest",
          "mapbox": {
           "style": "light"
          },
          "paper_bgcolor": "white",
          "plot_bgcolor": "#E5ECF6",
          "polar": {
           "angularaxis": {
            "gridcolor": "white",
            "linecolor": "white",
            "ticks": ""
           },
           "bgcolor": "#E5ECF6",
           "radialaxis": {
            "gridcolor": "white",
            "linecolor": "white",
            "ticks": ""
           }
          },
          "scene": {
           "xaxis": {
            "backgroundcolor": "#E5ECF6",
            "gridcolor": "white",
            "gridwidth": 2,
            "linecolor": "white",
            "showbackground": true,
            "ticks": "",
            "zerolinecolor": "white"
           },
           "yaxis": {
            "backgroundcolor": "#E5ECF6",
            "gridcolor": "white",
            "gridwidth": 2,
            "linecolor": "white",
            "showbackground": true,
            "ticks": "",
            "zerolinecolor": "white"
           },
           "zaxis": {
            "backgroundcolor": "#E5ECF6",
            "gridcolor": "white",
            "gridwidth": 2,
            "linecolor": "white",
            "showbackground": true,
            "ticks": "",
            "zerolinecolor": "white"
           }
          },
          "shapedefaults": {
           "line": {
            "color": "#2a3f5f"
           }
          },
          "ternary": {
           "aaxis": {
            "gridcolor": "white",
            "linecolor": "white",
            "ticks": ""
           },
           "baxis": {
            "gridcolor": "white",
            "linecolor": "white",
            "ticks": ""
           },
           "bgcolor": "#E5ECF6",
           "caxis": {
            "gridcolor": "white",
            "linecolor": "white",
            "ticks": ""
           }
          },
          "title": {
           "x": 0.05
          },
          "xaxis": {
           "automargin": true,
           "gridcolor": "white",
           "linecolor": "white",
           "ticks": "",
           "title": {
            "standoff": 15
           },
           "zerolinecolor": "white",
           "zerolinewidth": 2
          },
          "yaxis": {
           "automargin": true,
           "gridcolor": "white",
           "linecolor": "white",
           "ticks": "",
           "title": {
            "standoff": 15
           },
           "zerolinecolor": "white",
           "zerolinewidth": 2
          }
         }
        },
        "title": {
         "text": "lift"
        },
        "xaxis": {
         "anchor": "y",
         "domain": [
          0,
          1
         ],
         "title": {
          "text": "index"
         }
        },
        "yaxis": {
         "anchor": "x",
         "domain": [
          0,
          1
         ],
         "title": {
          "text": "value"
         }
        }
       }
      }
     },
     "metadata": {},
     "output_type": "display_data"
    },
    {
     "data": {
      "application/vnd.plotly.v1+json": {
       "config": {
        "plotlyServerURL": "https://plot.ly"
       },
       "data": [
        {
         "hovertemplate": "variable=ring<br>index=%{x}<br>value=%{y}<extra></extra>",
         "legendgroup": "ring",
         "line": {
          "color": "#636efa",
          "dash": "solid"
         },
         "marker": {
          "symbol": "circle"
         },
         "mode": "lines",
         "name": "ring",
         "orientation": "v",
         "showlegend": true,
         "type": "scatter",
         "x": {
          "bdata": "AAABAAIAAwAEAAUABgAHAAgACQAKAAsADAANAA4ADwAQABEAEgATABQAFQAWABcAGAAZABoAGwAcAB0AHgAfACAAIQAiACMAJAAlACYAJwAoACkAKgArACwALQAuAC8AMAAxADIAMwA0ADUANgA3ADgAOQA6ADsAPAA9AD4APwBAAEEAQgBDAEQARQBGAEcASABJAEoASwBMAE0ATgBPAFAAUQBSAFMAVABVAFYAVwBYAFkAWgBbAFwAXQBeAF8AYABhAGIAYwBkAGUAZgBnAGgAaQBqAGsAbABtAG4AbwBwAHEAcgBzAHQAdQB2AHcAeAB5AHoAewB8AH0AfgB/AIAAgQCCAIMAhACFAIYAhwCIAIkAigA=",
          "dtype": "i2"
         },
         "xaxis": "x",
         "y": {
          "bdata": "16NwPQoJiEA9CtejcP2JQOxRuB6FV4xACtejcD3YjkBcj8L1KOKPQArXo3A9tZBAH4XrUbhQkUCkcD0K166RQKRwPQrXOpJAXI/C9Sj4kkDD9Shcj3OTQDMzMzMzDpRAUrgehet9lEDsUbgeheCUQOF6FK5HVZVAhetRuB6ilUDD9Shcj66WQBSuR+F6ZJdAUrgehesFmEBSuB6F60SYQD0K16NwLZlASOF6FK7KmUA9CtejcDiaQNejcD0KtppAzczMzMz9mkAAAAAAAHubQDMzMzMz0ZtA16NwPQo1nECPwvUoXOacQBSuR+F6TJ1A4XoUrkfcnUCPwvUoXEGeQIXrUbgemp5AhetRuB4Un0CF61G4HkSfQEjhehQuP6BAMzMzMzNeoEDXo3A9imegQAAAAAAA16BASOF6FK4JoUDhehSuRzKhQHE9CtcjYKFAuB6F61HCoUDhehSuR/uhQHE9CtejNKJAuB6F69FlokDhehSux4aiQB+F61E4vaJAw/UoXA/SokB7FK5HYf2iQB+F61E4baNAcT0K1yN6o0B7FK5H4eyjQOF6FK5H9qNAFK5H4XqApEBI4XoUrqakQDMzMzMz4KRA16NwPQoBpUC4HoXrUSylQFyPwvWoW6VAcT0K1yN3pUDNzMzMzNilQKRwPQpXC6ZAFK5H4Xo6pkBI4XoULmymQEjhehSuhqZAuB6F61G4pkB7FK5HYc2mQEjhehQuCadAhetRuB5jp0DD9ShcD6OnQK5H4XoUzqdAAAAAAID0p0CPwvUo3BmoQM3MzMzMSqhA16NwPQq+qEBcj8L1qPaoQClcj8J1HqlA4XoUrsdLqUAAAAAAgF2pQGZmZmbmkKlAuB6F69GsqUA9CtejcNupQDMzMzMzLqpA16NwPQpQqkC4HoXr0YCqQGZmZmbmo6pAH4XrUTjVqkAK16NwvSyrQJqZmZmZSKtA7FG4HgV/q0AUrkfh+qCrQHE9CtcjvKtAMzMzMzP1q0CPwvUo3AmsQM3MzMzMXKxArkfhehSVrEBSuB6F64WsQArXo3C9B61AH4XrUTgYrUApXI/C9UOtQArXo3A9Wq1AUrgehWvYrUCkcD0KV/itQM3MzMzMVK5AMzMzM7NYrkB7FK5H4WauQB+F61E4lq5ASOF6FK6crkAK16NwPeauQJqZmZkZG69AcT0K1yNQr0BI4XoUrpevQClcj8L1ua9AUrgehevor0AzMzMzcwOwQD0K16PwF7BArkfhetRXsEAAAAAAAF6wQKRwPQqXebBAH4XrUXiLsEApXI/CtaywQArXo3B9x7BA16NwPcrfsEAK16NwveewQGZmZmbm8LBAZmZmZmYKsUC4HoXrERSxQGZmZmamQbFAZmZmZiZjsUA9Ctej8G6xQFK4HoVrhLFAMzMzM3OYsUAfhetRuLmxQArXo3C90rFAXI/C9SjFsUD2KFyPwvixQKRwPQoXErJA7FG4HsU/skA=",
          "dtype": "f8"
         },
         "yaxis": "y"
        },
        {
         "hovertemplate": "variable=no ring<br>index=%{x}<br>value=%{y}<extra></extra>",
         "legendgroup": "no ring",
         "line": {
          "color": "#EF553B",
          "dash": "solid"
         },
         "marker": {
          "symbol": "circle"
         },
         "mode": "lines",
         "name": "no ring",
         "orientation": "v",
         "showlegend": true,
         "type": "scatter",
         "x": {
          "bdata": "AAABAAIAAwAEAAUABgAHAAgACQAKAAsADAANAA4ADwAQABEAEgATABQAFQAWABcAGAAZABoAGwAcAB0AHgAfACAAIQAiACMAJAAlACYAJwAoACkAKgArACwALQAuAC8AMAAxADIAMwA0ADUANgA3ADgAOQA6ADsAPAA9AD4APwBAAEEAQgBDAEQARQBGAEcASABJAEoASwBMAE0ATgBPAFAAUQBSAFMAVABVAFYAVwBYAFkAWgBbAFwAXQBeAF8AYABhAGIAYwBkAGUAZgBnAGgAaQBqAGsAbABtAG4AbwBwAHEAcgBzAHQAdQB2AHcAeAB5AHoAewB8AH0AfgB/AIAAgQCCAIMAhACFAIYAhwCIAIkAigA=",
          "dtype": "i2"
         },
         "xaxis": "x",
         "y": {
          "bdata": "j8L1KFxhiUAUrkfhepyKQB+F61G4LoxAcT0K16OgjkDXo3A9CkGPQAAAAAAAIpBAexSuR+F+kEBSuB6F67iQQFyPwvUoT5FACtejcD2CkUCamZmZmfqSQPYoXI/CbZNAj8L1KFz0k0CPwvUoXN6TQM3MzMzMdJRAuB6F61HclEDNzMzMzC2VQEjhehSuYJZApHA9Ctd4lkBI4XoUrg+XQBSuR+F6V5dAmpmZmZmFl0BmZmZmZpqYQArXo3A9xphAMzMzMzM/mUDD9Shcj1OZQGZmZmZm6JlA9ihcj8LnmkBcj8L1KBqbQKRwPQrX5ptAXI/C9SgcnECamZmZmYGcQJqZmZmZsJxAZmZmZmZOnUCuR+F6FMGdQPYoXI/C3Z1AzczMzMzunkDXo3A9CgyfQClcj8L1gZ9AcT0K16PUn0AAAAAAAPufQNejcD0KQaBAPQrXo/BBoECkcD0KV7KgQGZmZmbmCKFAj8L1KNwioUC4HoXr0WehQOF6FK5HXaFAmpmZmZnAoUCkcD0KV/ihQK5H4XqUtqFAPQrXo/B+okCkcD0KV6WiQClcj8J14aJA9ihcj8L4okAAAAAAAIKjQM3MzMzMpqNApHA9ClfRo0AAAAAAAPSjQNejcD2K4qNASOF6FK4mpEB7FK5H4SykQKRwPQrXkqRAcT0K16PTpECF61G4ntKkQOxRuB6FNaVAw/UoXA8opUC4HoXr0UWlQGZmZmZmZqVAcT0K1yNzpUCkcD0K1/mlQClcj8L1I6ZAj8L1KFwmpkAAAAAAAFemQDMzMzMzpqZAcT0K16PtpkDNzMzMTGqnQPYoXI9CZKdArkfhepTFp0DNzMzMzLWnQB+F61E4yqdAzczMzMwvqEApXI/CdSSoQGZmZmZmr6hApHA9CteVqEBcj8L1qLuoQD0K16Pw+6hArkfhehT3qEBcj8L1qI+pQFK4HoXrualASOF6FK7eqUDhehSuxx+qQDMzMzMz+KlAmpmZmZlEqkCkcD0KV2iqQKRwPQrXvapAexSuR2HOqkDsUbgeBQmrQHE9CtejK6tAcT0K1yN4q0DhehSux36rQFK4HoXrf6tAMzMzMzP1q0Bcj8L1KCWsQK5H4XoUTKxASOF6FK50rEDNzMzMzGesQPYoXI9CjKxAXI/C9SjNrEDD9ShcD7qsQFyPwvWoW61AZmZmZmZDrUDsUbgehWOtQNejcD2Kka1AH4XrUTikrUBI4XoUrhGuQBSuR+F6fq5ASOF6FC51rkDhehSux2uuQOxRuB6Fe65ApHA9CteWrkDhehSux8muQFyPwvUoU69A4XoUrkcwr0AUrkfheouvQOxRuB6Fjq9AKVyPwnXLr0BI4XoUrgmwQLgehesRDbBA4XoUrkc7sEDsUbgeRUmwQFyPwvUoWbBAj8L1KJxcsEBI4XoUroKwQOF6FK5HkLBAUrgehauvsECuR+F6FO2wQFyPwvXo3bBAMzMzM3P3sEA=",
          "dtype": "f8"
         },
         "yaxis": "y"
        }
       ],
       "layout": {
        "legend": {
         "title": {
          "text": "variable"
         },
         "tracegroupgap": 0
        },
        "template": {
         "data": {
          "bar": [
           {
            "error_x": {
             "color": "#2a3f5f"
            },
            "error_y": {
             "color": "#2a3f5f"
            },
            "marker": {
             "line": {
              "color": "#E5ECF6",
              "width": 0.5
             },
             "pattern": {
              "fillmode": "overlay",
              "size": 10,
              "solidity": 0.2
             }
            },
            "type": "bar"
           }
          ],
          "barpolar": [
           {
            "marker": {
             "line": {
              "color": "#E5ECF6",
              "width": 0.5
             },
             "pattern": {
              "fillmode": "overlay",
              "size": 10,
              "solidity": 0.2
             }
            },
            "type": "barpolar"
           }
          ],
          "carpet": [
           {
            "aaxis": {
             "endlinecolor": "#2a3f5f",
             "gridcolor": "white",
             "linecolor": "white",
             "minorgridcolor": "white",
             "startlinecolor": "#2a3f5f"
            },
            "baxis": {
             "endlinecolor": "#2a3f5f",
             "gridcolor": "white",
             "linecolor": "white",
             "minorgridcolor": "white",
             "startlinecolor": "#2a3f5f"
            },
            "type": "carpet"
           }
          ],
          "choropleth": [
           {
            "colorbar": {
             "outlinewidth": 0,
             "ticks": ""
            },
            "type": "choropleth"
           }
          ],
          "contour": [
           {
            "colorbar": {
             "outlinewidth": 0,
             "ticks": ""
            },
            "colorscale": [
             [
              0,
              "#0d0887"
             ],
             [
              0.1111111111111111,
              "#46039f"
             ],
             [
              0.2222222222222222,
              "#7201a8"
             ],
             [
              0.3333333333333333,
              "#9c179e"
             ],
             [
              0.4444444444444444,
              "#bd3786"
             ],
             [
              0.5555555555555556,
              "#d8576b"
             ],
             [
              0.6666666666666666,
              "#ed7953"
             ],
             [
              0.7777777777777778,
              "#fb9f3a"
             ],
             [
              0.8888888888888888,
              "#fdca26"
             ],
             [
              1,
              "#f0f921"
             ]
            ],
            "type": "contour"
           }
          ],
          "contourcarpet": [
           {
            "colorbar": {
             "outlinewidth": 0,
             "ticks": ""
            },
            "type": "contourcarpet"
           }
          ],
          "heatmap": [
           {
            "colorbar": {
             "outlinewidth": 0,
             "ticks": ""
            },
            "colorscale": [
             [
              0,
              "#0d0887"
             ],
             [
              0.1111111111111111,
              "#46039f"
             ],
             [
              0.2222222222222222,
              "#7201a8"
             ],
             [
              0.3333333333333333,
              "#9c179e"
             ],
             [
              0.4444444444444444,
              "#bd3786"
             ],
             [
              0.5555555555555556,
              "#d8576b"
             ],
             [
              0.6666666666666666,
              "#ed7953"
             ],
             [
              0.7777777777777778,
              "#fb9f3a"
             ],
             [
              0.8888888888888888,
              "#fdca26"
             ],
             [
              1,
              "#f0f921"
             ]
            ],
            "type": "heatmap"
           }
          ],
          "histogram": [
           {
            "marker": {
             "pattern": {
              "fillmode": "overlay",
              "size": 10,
              "solidity": 0.2
             }
            },
            "type": "histogram"
           }
          ],
          "histogram2d": [
           {
            "colorbar": {
             "outlinewidth": 0,
             "ticks": ""
            },
            "colorscale": [
             [
              0,
              "#0d0887"
             ],
             [
              0.1111111111111111,
              "#46039f"
             ],
             [
              0.2222222222222222,
              "#7201a8"
             ],
             [
              0.3333333333333333,
              "#9c179e"
             ],
             [
              0.4444444444444444,
              "#bd3786"
             ],
             [
              0.5555555555555556,
              "#d8576b"
             ],
             [
              0.6666666666666666,
              "#ed7953"
             ],
             [
              0.7777777777777778,
              "#fb9f3a"
             ],
             [
              0.8888888888888888,
              "#fdca26"
             ],
             [
              1,
              "#f0f921"
             ]
            ],
            "type": "histogram2d"
           }
          ],
          "histogram2dcontour": [
           {
            "colorbar": {
             "outlinewidth": 0,
             "ticks": ""
            },
            "colorscale": [
             [
              0,
              "#0d0887"
             ],
             [
              0.1111111111111111,
              "#46039f"
             ],
             [
              0.2222222222222222,
              "#7201a8"
             ],
             [
              0.3333333333333333,
              "#9c179e"
             ],
             [
              0.4444444444444444,
              "#bd3786"
             ],
             [
              0.5555555555555556,
              "#d8576b"
             ],
             [
              0.6666666666666666,
              "#ed7953"
             ],
             [
              0.7777777777777778,
              "#fb9f3a"
             ],
             [
              0.8888888888888888,
              "#fdca26"
             ],
             [
              1,
              "#f0f921"
             ]
            ],
            "type": "histogram2dcontour"
           }
          ],
          "mesh3d": [
           {
            "colorbar": {
             "outlinewidth": 0,
             "ticks": ""
            },
            "type": "mesh3d"
           }
          ],
          "parcoords": [
           {
            "line": {
             "colorbar": {
              "outlinewidth": 0,
              "ticks": ""
             }
            },
            "type": "parcoords"
           }
          ],
          "pie": [
           {
            "automargin": true,
            "type": "pie"
           }
          ],
          "scatter": [
           {
            "fillpattern": {
             "fillmode": "overlay",
             "size": 10,
             "solidity": 0.2
            },
            "type": "scatter"
           }
          ],
          "scatter3d": [
           {
            "line": {
             "colorbar": {
              "outlinewidth": 0,
              "ticks": ""
             }
            },
            "marker": {
             "colorbar": {
              "outlinewidth": 0,
              "ticks": ""
             }
            },
            "type": "scatter3d"
           }
          ],
          "scattercarpet": [
           {
            "marker": {
             "colorbar": {
              "outlinewidth": 0,
              "ticks": ""
             }
            },
            "type": "scattercarpet"
           }
          ],
          "scattergeo": [
           {
            "marker": {
             "colorbar": {
              "outlinewidth": 0,
              "ticks": ""
             }
            },
            "type": "scattergeo"
           }
          ],
          "scattergl": [
           {
            "marker": {
             "colorbar": {
              "outlinewidth": 0,
              "ticks": ""
             }
            },
            "type": "scattergl"
           }
          ],
          "scattermap": [
           {
            "marker": {
             "colorbar": {
              "outlinewidth": 0,
              "ticks": ""
             }
            },
            "type": "scattermap"
           }
          ],
          "scattermapbox": [
           {
            "marker": {
             "colorbar": {
              "outlinewidth": 0,
              "ticks": ""
             }
            },
            "type": "scattermapbox"
           }
          ],
          "scatterpolar": [
           {
            "marker": {
             "colorbar": {
              "outlinewidth": 0,
              "ticks": ""
             }
            },
            "type": "scatterpolar"
           }
          ],
          "scatterpolargl": [
           {
            "marker": {
             "colorbar": {
              "outlinewidth": 0,
              "ticks": ""
             }
            },
            "type": "scatterpolargl"
           }
          ],
          "scatterternary": [
           {
            "marker": {
             "colorbar": {
              "outlinewidth": 0,
              "ticks": ""
             }
            },
            "type": "scatterternary"
           }
          ],
          "surface": [
           {
            "colorbar": {
             "outlinewidth": 0,
             "ticks": ""
            },
            "colorscale": [
             [
              0,
              "#0d0887"
             ],
             [
              0.1111111111111111,
              "#46039f"
             ],
             [
              0.2222222222222222,
              "#7201a8"
             ],
             [
              0.3333333333333333,
              "#9c179e"
             ],
             [
              0.4444444444444444,
              "#bd3786"
             ],
             [
              0.5555555555555556,
              "#d8576b"
             ],
             [
              0.6666666666666666,
              "#ed7953"
             ],
             [
              0.7777777777777778,
              "#fb9f3a"
             ],
             [
              0.8888888888888888,
              "#fdca26"
             ],
             [
              1,
              "#f0f921"
             ]
            ],
            "type": "surface"
           }
          ],
          "table": [
           {
            "cells": {
             "fill": {
              "color": "#EBF0F8"
             },
             "line": {
              "color": "white"
             }
            },
            "header": {
             "fill": {
              "color": "#C8D4E3"
             },
             "line": {
              "color": "white"
             }
            },
            "type": "table"
           }
          ]
         },
         "layout": {
          "annotationdefaults": {
           "arrowcolor": "#2a3f5f",
           "arrowhead": 0,
           "arrowwidth": 1
          },
          "autotypenumbers": "strict",
          "coloraxis": {
           "colorbar": {
            "outlinewidth": 0,
            "ticks": ""
           }
          },
          "colorscale": {
           "diverging": [
            [
             0,
             "#8e0152"
            ],
            [
             0.1,
             "#c51b7d"
            ],
            [
             0.2,
             "#de77ae"
            ],
            [
             0.3,
             "#f1b6da"
            ],
            [
             0.4,
             "#fde0ef"
            ],
            [
             0.5,
             "#f7f7f7"
            ],
            [
             0.6,
             "#e6f5d0"
            ],
            [
             0.7,
             "#b8e186"
            ],
            [
             0.8,
             "#7fbc41"
            ],
            [
             0.9,
             "#4d9221"
            ],
            [
             1,
             "#276419"
            ]
           ],
           "sequential": [
            [
             0,
             "#0d0887"
            ],
            [
             0.1111111111111111,
             "#46039f"
            ],
            [
             0.2222222222222222,
             "#7201a8"
            ],
            [
             0.3333333333333333,
             "#9c179e"
            ],
            [
             0.4444444444444444,
             "#bd3786"
            ],
            [
             0.5555555555555556,
             "#d8576b"
            ],
            [
             0.6666666666666666,
             "#ed7953"
            ],
            [
             0.7777777777777778,
             "#fb9f3a"
            ],
            [
             0.8888888888888888,
             "#fdca26"
            ],
            [
             1,
             "#f0f921"
            ]
           ],
           "sequentialminus": [
            [
             0,
             "#0d0887"
            ],
            [
             0.1111111111111111,
             "#46039f"
            ],
            [
             0.2222222222222222,
             "#7201a8"
            ],
            [
             0.3333333333333333,
             "#9c179e"
            ],
            [
             0.4444444444444444,
             "#bd3786"
            ],
            [
             0.5555555555555556,
             "#d8576b"
            ],
            [
             0.6666666666666666,
             "#ed7953"
            ],
            [
             0.7777777777777778,
             "#fb9f3a"
            ],
            [
             0.8888888888888888,
             "#fdca26"
            ],
            [
             1,
             "#f0f921"
            ]
           ]
          },
          "colorway": [
           "#636efa",
           "#EF553B",
           "#00cc96",
           "#ab63fa",
           "#FFA15A",
           "#19d3f3",
           "#FF6692",
           "#B6E880",
           "#FF97FF",
           "#FECB52"
          ],
          "font": {
           "color": "#2a3f5f"
          },
          "geo": {
           "bgcolor": "white",
           "lakecolor": "white",
           "landcolor": "#E5ECF6",
           "showlakes": true,
           "showland": true,
           "subunitcolor": "white"
          },
          "hoverlabel": {
           "align": "left"
          },
          "hovermode": "closest",
          "mapbox": {
           "style": "light"
          },
          "paper_bgcolor": "white",
          "plot_bgcolor": "#E5ECF6",
          "polar": {
           "angularaxis": {
            "gridcolor": "white",
            "linecolor": "white",
            "ticks": ""
           },
           "bgcolor": "#E5ECF6",
           "radialaxis": {
            "gridcolor": "white",
            "linecolor": "white",
            "ticks": ""
           }
          },
          "scene": {
           "xaxis": {
            "backgroundcolor": "#E5ECF6",
            "gridcolor": "white",
            "gridwidth": 2,
            "linecolor": "white",
            "showbackground": true,
            "ticks": "",
            "zerolinecolor": "white"
           },
           "yaxis": {
            "backgroundcolor": "#E5ECF6",
            "gridcolor": "white",
            "gridwidth": 2,
            "linecolor": "white",
            "showbackground": true,
            "ticks": "",
            "zerolinecolor": "white"
           },
           "zaxis": {
            "backgroundcolor": "#E5ECF6",
            "gridcolor": "white",
            "gridwidth": 2,
            "linecolor": "white",
            "showbackground": true,
            "ticks": "",
            "zerolinecolor": "white"
           }
          },
          "shapedefaults": {
           "line": {
            "color": "#2a3f5f"
           }
          },
          "ternary": {
           "aaxis": {
            "gridcolor": "white",
            "linecolor": "white",
            "ticks": ""
           },
           "baxis": {
            "gridcolor": "white",
            "linecolor": "white",
            "ticks": ""
           },
           "bgcolor": "#E5ECF6",
           "caxis": {
            "gridcolor": "white",
            "linecolor": "white",
            "ticks": ""
           }
          },
          "title": {
           "x": 0.05
          },
          "xaxis": {
           "automargin": true,
           "gridcolor": "white",
           "linecolor": "white",
           "ticks": "",
           "title": {
            "standoff": 15
           },
           "zerolinecolor": "white",
           "zerolinewidth": 2
          },
          "yaxis": {
           "automargin": true,
           "gridcolor": "white",
           "linecolor": "white",
           "ticks": "",
           "title": {
            "standoff": 15
           },
           "zerolinecolor": "white",
           "zerolinewidth": 2
          }
         }
        },
        "title": {
         "text": "rpm"
        },
        "xaxis": {
         "anchor": "y",
         "domain": [
          0,
          1
         ],
         "title": {
          "text": "index"
         }
        },
        "yaxis": {
         "anchor": "x",
         "domain": [
          0,
          1
         ],
         "title": {
          "text": "value"
         }
        }
       }
      }
     },
     "metadata": {},
     "output_type": "display_data"
    },
    {
     "data": {
      "application/vnd.plotly.v1+json": {
       "config": {
        "plotlyServerURL": "https://plot.ly"
       },
       "data": [
        {
         "hovertemplate": "variable=ring<br>index=%{x}<br>value=%{y}<extra></extra>",
         "legendgroup": "ring",
         "line": {
          "color": "#636efa",
          "dash": "solid"
         },
         "marker": {
          "symbol": "circle"
         },
         "mode": "lines",
         "name": "ring",
         "orientation": "v",
         "showlegend": true,
         "type": "scatter",
         "x": {
          "bdata": "AAABAAIAAwAEAAUABgAHAAgACQAKAAsADAANAA4ADwAQABEAEgATABQAFQAWABcAGAAZABoAGwAcAB0AHgAfACAAIQAiACMAJAAlACYAJwAoACkAKgArACwALQAuAC8AMAAxADIAMwA0ADUANgA3ADgAOQA6ADsAPAA9AD4APwBAAEEAQgBDAEQARQBGAEcASABJAEoASwBMAE0ATgBPAFAAUQBSAFMAVABVAFYAVwBYAFkAWgBbAFwAXQBeAF8AYABhAGIAYwBkAGUAZgBnAGgAaQBqAGsAbABtAG4AbwBwAHEAcgBzAHQAdQB2AHcAeAB5AHoAewB8AH0AfgB/AIAAgQCCAIMAhACFAIYAhwCIAIkAigA=",
          "dtype": "i2"
         },
         "xaxis": "x",
         "y": {
          "bdata": "H4XrUbhyScBm/5gyzIVJwB2mLrc/mEnAkcm+OqmSScA1XrpJDIpJwEkI6xbVl0nAx1OCPCWoScD6dUnlw7hJwJX8YskvwknAzarP1VbMScAH8XbVvdNJwH6mI/Yd20nAmkpDzn3mScD0HParNehJwBUg95oL6UnAleRUSU71ScC2H2D7AfZJwFaSUyU5FUrA7yvtvtIuSsDXEWYdYTZKwGhli1a2KErAfO+9994bSsAbq7axahtKwDxUt0N1G0rAhutRuB4lSsDsmr2u2StKwADc6r+tPkrA6sCIDoxISsBHdGBEB0ZKwBoah6FxOErAQZsGtGkgSsDDrCPMOiJKwBuskcEaGUrALFu0skULSsASQgghhBBKwBPUEkEtEUrAaGZmZmYGSsB2zjnnnPNJwEwEtURQ60nACWqJoJboScAdhsZhaNxJwJjjeTme10nAgloiqCXCScD131b/bbVJwFIBJBVAsknAU9wzxT2zScCobofqdqhJwARsP8D2o0nAZh1h1hGmScBb/bfVf5tJwAC3+m+rn0nAYR8X9nGhScAdYdYRZp1JwIsNsdgQi0nARb1l1FuGScD4ApEvEHlJwItWtmhla0nAPC/H83JcScAMjcPQOExJwMD2A2w/QEnAZflLlr9EScD93MXPXTxJwLX7SruvNEnAc4U0V0gzScBrP8D2AyxJwAS1RFBLJEnAhVlHmHUkScDC9ShcjyJJwKnbobodKknAHjzmwWMeScAV90xxzxRJwJGdBdlZEEnAwz4u7OMCScDkC0S+QARJwP1J4J8E/kjAMTQOQ+PwSMCEokwoyuRIwA4e8+Axz0jA/23131a/SMAsEdQSQa1IwMEaGayRoUjAleRUSU6VSMDJhKJMKIpIwLyKxKtIfEjA/AG2H2B7SMCrSLyKxGtIwNh+gO0HWEjARr1l1FtGSMA85sFjHjxIwC5a2aKVTUjAvmXUW0ZdSMA6VZJTJVlIwN/p5J1OXkjA0lwhzRVSSMCbT7n5lDtIwBRBLRHUMkjAB0Z0YEQnSMCbva7Z6xpIwJJUAEkFEEjAYSDyBSL/R8A6w4czfPhHwGiva/a65kfAH/PgMQ/eR8AN1shgjcxHwOPnLn7uwkfA8k4n73SyR8Cr2saqbaxHwH+kAkgqoEfA2caqbayaR8Dylyx/yZJHwIV9XNjHhUfAkwlFmVB0R8BDB0Z0YGRHwB085sFjXkfAF/ZxYR9XR8Cot4x6y0hHwP1u0O8GPUfAEq8i8SoyR8AJ/JPAPylHwFZtY9U2FkfADI3D0DgMR8DlVElOlQRHwNvGqm2s+kbAMRD5ApHvRsDkXnMhaepGwIRcEpwu7EbAmZmZmZnpRsDe818hOORGwEnHp68t3kbAFK5H4XrURsAs+cWSX8xGwC7qjoHjv0bA7hvWvmG9RsCEdYvq27FGwA4tsp3vt0bA2l7wZhO0RsDD9Shcj7JGwIjuVLshqEbApHA9CtefRsA=",
          "dtype": "f8"
         },
         "yaxis": "y"
        },
        {
         "hovertemplate": "variable=no ring<br>index=%{x}<br>value=%{y}<extra></extra>",
         "legendgroup": "no ring",
         "line": {
          "color": "#EF553B",
          "dash": "solid"
         },
         "marker": {
          "symbol": "circle"
         },
         "mode": "lines",
         "name": "no ring",
         "orientation": "v",
         "showlegend": true,
         "type": "scatter",
         "x": {
          "bdata": "AAABAAIAAwAEAAUABgAHAAgACQAKAAsADAANAA4ADwAQABEAEgATABQAFQAWABcAGAAZABoAGwAcAB0AHgAfACAAIQAiACMAJAAlACYAJwAoACkAKgArACwALQAuAC8AMAAxADIAMwA0ADUANgA3ADgAOQA6ADsAPAA9AD4APwBAAEEAQgBDAEQARQBGAEcASABJAEoASwBMAE0ATgBPAFAAUQBSAFMAVABVAFYAVwBYAFkAWgBbAFwAXQBeAF8AYABhAGIAYwBkAGUAZgBnAGgAaQBqAGsAbABtAG4AbwBwAHEAcgBzAHQAdQB2AHcAeAB5AHoAewB8AH0AfgB/AIAAgQCCAIMAhACFAIYAhwCIAIkAigA=",
          "dtype": "i2"
         },
         "xaxis": "x",
         "y": {
          "bdata": "rkfhehR4ScCHILpT7YZJwFnyiyW/iEnAWCdVxrCIScAhsHJokY1JwOvb8VBCmEnAMIQGQ2igScABwzY7xZtJwAvXo3A9mknAOPjCZKqgScABc5bNP6NJwF9CewntpUnAKKvljRGUScA1vL/dXHVJwKo4+/AZZknA5sFjHjxmScCr/7b6b2tJwH7KzafcfEnAl3ZfafeVScB0PC/H85JJwHdfafeVlknAb4fqdqiOScC2skUrW5RJwGdCUSYUhUnAQuQLRL6AScAM16NwPYpJwBQdGNGBcUnAr7XWWmtNScD2TUzfxFRJwHL0BEdPUEnA0RT3THFPScAjzRXSXEFJwHzLqLeMOknAOXqCoyc4ScB4X2n3lTZJwOpSky41KUnAVbdDdTsUScD1llFvGRVJwNt9pd1XGknAZB485sEjScCa4p4p7hlJwBfRgREdGEnA+0q7r7QbScBJ4J8E/ilJwFW3Q3U7NEnAP3fxcxc/ScDiVSReRUJJwL2u2euaPUnAFvdMcc80ScBNA9o0oC1JwIcPZ/hwJknA4sMZPpwhScC8r7T7ShtJwL+J6ZuY/kjAa4mglggKScB28k4n7/RIwNLKFq1s0UjAQ3U7VLfDSMBvq/+2+s9IwCc4eoKjx0jAs44w6wizSMC9ZdRbRp1IwCLxKhKvokjAPXjMg8ecSMATryLxKpJIwM06wqwjjEjA7r7S7iuNSMDTpSZdapJIwOd3g343iEjAmuKeKe55SMCiTCjKhGJIwFtGvWXUW0jAz8oWrWxRSMCbT7n5lDtIwIkyoSgTKkjAOOh3g343SMAXZGdBdjZIwHU7VLdDFUjARk9w9AQHSMDkwj4u7ANIwNZ/W/239UfAecyDxzz4R8AxNA5D4/BHwC3s48I+7kfAt2hli1b2R8A+5eZTbt5HwKuRwRoZ7EfAowJIKoDkR8BHKoCkAuhHwD7A9gNs30fANp9y8ym3R8DsvtLuK61HwAdqiaCWqEfAbz0K16OQR8AAkgogqYBHwG8Z9ZZRb0fALln+kuVPR8CFD2f4cEZHwP231X9bPUfAArYfYPshR8A+d/FzFx9HwNd+gO0HGEfAyjrCrCMMR8CbmL6J6ftGwDR8OMOH80bA0jgMjcPwRsA/Luzjwt5GwG4+5eZTzkbA9Zcsf8myRsAtpLlCmqtGwBuHoXEYmkbAileReBWJRsCgl+N5OX5GwHnxcxc/d0bAyqmSnCppRsDtLMjOgkxGwCWDNTJYQ0bA8b333nsvRsB3hFlHmDVGwB7Py/G8PEbAYEXiVSQ+RsCPMOsIs05GwMxfsvwlS0bAiKFxGBpHRsAg95oLSUNGwN9o+1j0PEbAdVAHdVA/RsBpDl5Y/UxGwGkywJxlQ0bA1sVtNIA3RsADnTbQaTtGwNrsFO9ZKkbAwBAaDKEhRsCYmZmZmRlGwHa+nxovFUbANOfpSu8MRsDLDlOX2/9FwNOgbToH9EXAkML1KFzlRcA=",
          "dtype": "f8"
         },
         "yaxis": "y"
        }
       ],
       "layout": {
        "legend": {
         "title": {
          "text": "variable"
         },
         "tracegroupgap": 0
        },
        "template": {
         "data": {
          "bar": [
           {
            "error_x": {
             "color": "#2a3f5f"
            },
            "error_y": {
             "color": "#2a3f5f"
            },
            "marker": {
             "line": {
              "color": "#E5ECF6",
              "width": 0.5
             },
             "pattern": {
              "fillmode": "overlay",
              "size": 10,
              "solidity": 0.2
             }
            },
            "type": "bar"
           }
          ],
          "barpolar": [
           {
            "marker": {
             "line": {
              "color": "#E5ECF6",
              "width": 0.5
             },
             "pattern": {
              "fillmode": "overlay",
              "size": 10,
              "solidity": 0.2
             }
            },
            "type": "barpolar"
           }
          ],
          "carpet": [
           {
            "aaxis": {
             "endlinecolor": "#2a3f5f",
             "gridcolor": "white",
             "linecolor": "white",
             "minorgridcolor": "white",
             "startlinecolor": "#2a3f5f"
            },
            "baxis": {
             "endlinecolor": "#2a3f5f",
             "gridcolor": "white",
             "linecolor": "white",
             "minorgridcolor": "white",
             "startlinecolor": "#2a3f5f"
            },
            "type": "carpet"
           }
          ],
          "choropleth": [
           {
            "colorbar": {
             "outlinewidth": 0,
             "ticks": ""
            },
            "type": "choropleth"
           }
          ],
          "contour": [
           {
            "colorbar": {
             "outlinewidth": 0,
             "ticks": ""
            },
            "colorscale": [
             [
              0,
              "#0d0887"
             ],
             [
              0.1111111111111111,
              "#46039f"
             ],
             [
              0.2222222222222222,
              "#7201a8"
             ],
             [
              0.3333333333333333,
              "#9c179e"
             ],
             [
              0.4444444444444444,
              "#bd3786"
             ],
             [
              0.5555555555555556,
              "#d8576b"
             ],
             [
              0.6666666666666666,
              "#ed7953"
             ],
             [
              0.7777777777777778,
              "#fb9f3a"
             ],
             [
              0.8888888888888888,
              "#fdca26"
             ],
             [
              1,
              "#f0f921"
             ]
            ],
            "type": "contour"
           }
          ],
          "contourcarpet": [
           {
            "colorbar": {
             "outlinewidth": 0,
             "ticks": ""
            },
            "type": "contourcarpet"
           }
          ],
          "heatmap": [
           {
            "colorbar": {
             "outlinewidth": 0,
             "ticks": ""
            },
            "colorscale": [
             [
              0,
              "#0d0887"
             ],
             [
              0.1111111111111111,
              "#46039f"
             ],
             [
              0.2222222222222222,
              "#7201a8"
             ],
             [
              0.3333333333333333,
              "#9c179e"
             ],
             [
              0.4444444444444444,
              "#bd3786"
             ],
             [
              0.5555555555555556,
              "#d8576b"
             ],
             [
              0.6666666666666666,
              "#ed7953"
             ],
             [
              0.7777777777777778,
              "#fb9f3a"
             ],
             [
              0.8888888888888888,
              "#fdca26"
             ],
             [
              1,
              "#f0f921"
             ]
            ],
            "type": "heatmap"
           }
          ],
          "histogram": [
           {
            "marker": {
             "pattern": {
              "fillmode": "overlay",
              "size": 10,
              "solidity": 0.2
             }
            },
            "type": "histogram"
           }
          ],
          "histogram2d": [
           {
            "colorbar": {
             "outlinewidth": 0,
             "ticks": ""
            },
            "colorscale": [
             [
              0,
              "#0d0887"
             ],
             [
              0.1111111111111111,
              "#46039f"
             ],
             [
              0.2222222222222222,
              "#7201a8"
             ],
             [
              0.3333333333333333,
              "#9c179e"
             ],
             [
              0.4444444444444444,
              "#bd3786"
             ],
             [
              0.5555555555555556,
              "#d8576b"
             ],
             [
              0.6666666666666666,
              "#ed7953"
             ],
             [
              0.7777777777777778,
              "#fb9f3a"
             ],
             [
              0.8888888888888888,
              "#fdca26"
             ],
             [
              1,
              "#f0f921"
             ]
            ],
            "type": "histogram2d"
           }
          ],
          "histogram2dcontour": [
           {
            "colorbar": {
             "outlinewidth": 0,
             "ticks": ""
            },
            "colorscale": [
             [
              0,
              "#0d0887"
             ],
             [
              0.1111111111111111,
              "#46039f"
             ],
             [
              0.2222222222222222,
              "#7201a8"
             ],
             [
              0.3333333333333333,
              "#9c179e"
             ],
             [
              0.4444444444444444,
              "#bd3786"
             ],
             [
              0.5555555555555556,
              "#d8576b"
             ],
             [
              0.6666666666666666,
              "#ed7953"
             ],
             [
              0.7777777777777778,
              "#fb9f3a"
             ],
             [
              0.8888888888888888,
              "#fdca26"
             ],
             [
              1,
              "#f0f921"
             ]
            ],
            "type": "histogram2dcontour"
           }
          ],
          "mesh3d": [
           {
            "colorbar": {
             "outlinewidth": 0,
             "ticks": ""
            },
            "type": "mesh3d"
           }
          ],
          "parcoords": [
           {
            "line": {
             "colorbar": {
              "outlinewidth": 0,
              "ticks": ""
             }
            },
            "type": "parcoords"
           }
          ],
          "pie": [
           {
            "automargin": true,
            "type": "pie"
           }
          ],
          "scatter": [
           {
            "fillpattern": {
             "fillmode": "overlay",
             "size": 10,
             "solidity": 0.2
            },
            "type": "scatter"
           }
          ],
          "scatter3d": [
           {
            "line": {
             "colorbar": {
              "outlinewidth": 0,
              "ticks": ""
             }
            },
            "marker": {
             "colorbar": {
              "outlinewidth": 0,
              "ticks": ""
             }
            },
            "type": "scatter3d"
           }
          ],
          "scattercarpet": [
           {
            "marker": {
             "colorbar": {
              "outlinewidth": 0,
              "ticks": ""
             }
            },
            "type": "scattercarpet"
           }
          ],
          "scattergeo": [
           {
            "marker": {
             "colorbar": {
              "outlinewidth": 0,
              "ticks": ""
             }
            },
            "type": "scattergeo"
           }
          ],
          "scattergl": [
           {
            "marker": {
             "colorbar": {
              "outlinewidth": 0,
              "ticks": ""
             }
            },
            "type": "scattergl"
           }
          ],
          "scattermap": [
           {
            "marker": {
             "colorbar": {
              "outlinewidth": 0,
              "ticks": ""
             }
            },
            "type": "scattermap"
           }
          ],
          "scattermapbox": [
           {
            "marker": {
             "colorbar": {
              "outlinewidth": 0,
              "ticks": ""
             }
            },
            "type": "scattermapbox"
           }
          ],
          "scatterpolar": [
           {
            "marker": {
             "colorbar": {
              "outlinewidth": 0,
              "ticks": ""
             }
            },
            "type": "scatterpolar"
           }
          ],
          "scatterpolargl": [
           {
            "marker": {
             "colorbar": {
              "outlinewidth": 0,
              "ticks": ""
             }
            },
            "type": "scatterpolargl"
           }
          ],
          "scatterternary": [
           {
            "marker": {
             "colorbar": {
              "outlinewidth": 0,
              "ticks": ""
             }
            },
            "type": "scatterternary"
           }
          ],
          "surface": [
           {
            "colorbar": {
             "outlinewidth": 0,
             "ticks": ""
            },
            "colorscale": [
             [
              0,
              "#0d0887"
             ],
             [
              0.1111111111111111,
              "#46039f"
             ],
             [
              0.2222222222222222,
              "#7201a8"
             ],
             [
              0.3333333333333333,
              "#9c179e"
             ],
             [
              0.4444444444444444,
              "#bd3786"
             ],
             [
              0.5555555555555556,
              "#d8576b"
             ],
             [
              0.6666666666666666,
              "#ed7953"
             ],
             [
              0.7777777777777778,
              "#fb9f3a"
             ],
             [
              0.8888888888888888,
              "#fdca26"
             ],
             [
              1,
              "#f0f921"
             ]
            ],
            "type": "surface"
           }
          ],
          "table": [
           {
            "cells": {
             "fill": {
              "color": "#EBF0F8"
             },
             "line": {
              "color": "white"
             }
            },
            "header": {
             "fill": {
              "color": "#C8D4E3"
             },
             "line": {
              "color": "white"
             }
            },
            "type": "table"
           }
          ]
         },
         "layout": {
          "annotationdefaults": {
           "arrowcolor": "#2a3f5f",
           "arrowhead": 0,
           "arrowwidth": 1
          },
          "autotypenumbers": "strict",
          "coloraxis": {
           "colorbar": {
            "outlinewidth": 0,
            "ticks": ""
           }
          },
          "colorscale": {
           "diverging": [
            [
             0,
             "#8e0152"
            ],
            [
             0.1,
             "#c51b7d"
            ],
            [
             0.2,
             "#de77ae"
            ],
            [
             0.3,
             "#f1b6da"
            ],
            [
             0.4,
             "#fde0ef"
            ],
            [
             0.5,
             "#f7f7f7"
            ],
            [
             0.6,
             "#e6f5d0"
            ],
            [
             0.7,
             "#b8e186"
            ],
            [
             0.8,
             "#7fbc41"
            ],
            [
             0.9,
             "#4d9221"
            ],
            [
             1,
             "#276419"
            ]
           ],
           "sequential": [
            [
             0,
             "#0d0887"
            ],
            [
             0.1111111111111111,
             "#46039f"
            ],
            [
             0.2222222222222222,
             "#7201a8"
            ],
            [
             0.3333333333333333,
             "#9c179e"
            ],
            [
             0.4444444444444444,
             "#bd3786"
            ],
            [
             0.5555555555555556,
             "#d8576b"
            ],
            [
             0.6666666666666666,
             "#ed7953"
            ],
            [
             0.7777777777777778,
             "#fb9f3a"
            ],
            [
             0.8888888888888888,
             "#fdca26"
            ],
            [
             1,
             "#f0f921"
            ]
           ],
           "sequentialminus": [
            [
             0,
             "#0d0887"
            ],
            [
             0.1111111111111111,
             "#46039f"
            ],
            [
             0.2222222222222222,
             "#7201a8"
            ],
            [
             0.3333333333333333,
             "#9c179e"
            ],
            [
             0.4444444444444444,
             "#bd3786"
            ],
            [
             0.5555555555555556,
             "#d8576b"
            ],
            [
             0.6666666666666666,
             "#ed7953"
            ],
            [
             0.7777777777777778,
             "#fb9f3a"
            ],
            [
             0.8888888888888888,
             "#fdca26"
            ],
            [
             1,
             "#f0f921"
            ]
           ]
          },
          "colorway": [
           "#636efa",
           "#EF553B",
           "#00cc96",
           "#ab63fa",
           "#FFA15A",
           "#19d3f3",
           "#FF6692",
           "#B6E880",
           "#FF97FF",
           "#FECB52"
          ],
          "font": {
           "color": "#2a3f5f"
          },
          "geo": {
           "bgcolor": "white",
           "lakecolor": "white",
           "landcolor": "#E5ECF6",
           "showlakes": true,
           "showland": true,
           "subunitcolor": "white"
          },
          "hoverlabel": {
           "align": "left"
          },
          "hovermode": "closest",
          "mapbox": {
           "style": "light"
          },
          "paper_bgcolor": "white",
          "plot_bgcolor": "#E5ECF6",
          "polar": {
           "angularaxis": {
            "gridcolor": "white",
            "linecolor": "white",
            "ticks": ""
           },
           "bgcolor": "#E5ECF6",
           "radialaxis": {
            "gridcolor": "white",
            "linecolor": "white",
            "ticks": ""
           }
          },
          "scene": {
           "xaxis": {
            "backgroundcolor": "#E5ECF6",
            "gridcolor": "white",
            "gridwidth": 2,
            "linecolor": "white",
            "showbackground": true,
            "ticks": "",
            "zerolinecolor": "white"
           },
           "yaxis": {
            "backgroundcolor": "#E5ECF6",
            "gridcolor": "white",
            "gridwidth": 2,
            "linecolor": "white",
            "showbackground": true,
            "ticks": "",
            "zerolinecolor": "white"
           },
           "zaxis": {
            "backgroundcolor": "#E5ECF6",
            "gridcolor": "white",
            "gridwidth": 2,
            "linecolor": "white",
            "showbackground": true,
            "ticks": "",
            "zerolinecolor": "white"
           }
          },
          "shapedefaults": {
           "line": {
            "color": "#2a3f5f"
           }
          },
          "ternary": {
           "aaxis": {
            "gridcolor": "white",
            "linecolor": "white",
            "ticks": ""
           },
           "baxis": {
            "gridcolor": "white",
            "linecolor": "white",
            "ticks": ""
           },
           "bgcolor": "#E5ECF6",
           "caxis": {
            "gridcolor": "white",
            "linecolor": "white",
            "ticks": ""
           }
          },
          "title": {
           "x": 0.05
          },
          "xaxis": {
           "automargin": true,
           "gridcolor": "white",
           "linecolor": "white",
           "ticks": "",
           "title": {
            "standoff": 15
           },
           "zerolinecolor": "white",
           "zerolinewidth": 2
          },
          "yaxis": {
           "automargin": true,
           "gridcolor": "white",
           "linecolor": "white",
           "ticks": "",
           "title": {
            "standoff": 15
           },
           "zerolinecolor": "white",
           "zerolinewidth": 2
          }
         }
        },
        "title": {
         "text": "sound"
        },
        "xaxis": {
         "anchor": "y",
         "domain": [
          0,
          1
         ],
         "title": {
          "text": "index"
         }
        },
        "yaxis": {
         "anchor": "x",
         "domain": [
          0,
          1
         ],
         "title": {
          "text": "value"
         }
        }
       }
      }
     },
     "metadata": {},
     "output_type": "display_data"
    }
   ],
   "source": [
    "px.line({'ring': ring['lift'], 'no ring': no_ring['lift']}, title='lift').show()\n",
    "px.line({'ring': ring['rpm'], 'no ring': no_ring['rpm']}, title='rpm').show()\n",
    "px.line({'ring': ring['sound'], 'no ring': no_ring['sound']}, title='sound').show()"
   ]
  },
  {
   "cell_type": "code",
   "execution_count": null,
   "id": "a828d34d",
   "metadata": {},
   "outputs": [],
   "source": [
    "from pathlib import Path\n",
    "import numpy as np, plotly.express as px, pandas as pd\n",
    "h = 500\n",
    "\n",
    "diff = 20\n",
    "labels = {0:'angle', 1:'info->rotate_angle_step', 2:'xamp', 3:'info->xamp_step'}\n",
    "ar = np.array([[float(j) for j in i.split()] for i in Path('graph').read_text().replace('\\n\\n', '\\n').replace('\\n\\n', '\\n').splitlines() if i])\n",
    "\n",
    "\n",
    "\n",
    "def plot(arr):\n",
    "    arr = np.array(arr)\n",
    "    fig = px.line(arr, height=300)\n",
    "    fig.update_layout(\n",
    "        xaxis=dict(range=[0, len(arr)-1]),\n",
    "        yaxis=dict(range=[arr.min(), arr.max()]),\n",
    "        margin=dict(l=0, r=0, t=10, b=0)\n",
    "    )\n",
    "    fig.show()\n",
    "\n",
    "def quan(arr: list, per=0.05, lr=0.02, max_iter=40):\n",
    "\n",
    "    n = len(arr)\n",
    "    target = n * (1 - per)\n",
    "\n",
    "    low, high = min(arr), max(arr)\n",
    "    thres = (high - low) * per + low  # initial guess ~per percentile\n",
    "    print(np.quantile(arr, per))\n",
    "    for _ in range(max_iter):\n",
    "        # how many elements are above current threshold?\n",
    "        count = sum(1 for i in arr if i > thres)\n",
    "\n",
    "        # error = how far off we are from target\n",
    "        error = count - target\n",
    "        if abs(error) < 20:  # good enough (within 1 element)\n",
    "            break\n",
    "\n",
    "        print(round(thres, 3), round(count/len(arr), 4), round(error, 2), round(lr, 2))\n",
    "\n",
    "        # gradient = sign of error (since F(t) is monotonic decreasing)\n",
    "        grad = 1 if error > 0 else -1\n",
    "\n",
    "        # update threshold\n",
    "        thres += error * lr# * (high - low)\n",
    "\n",
    "        # shrink learning rate for stability\n",
    "        lr *= 0.95\n",
    "\n",
    "    return thres\n",
    "\n",
    "\n",
    "def count_blades(arr, derivative_jump=10, ema=0.95, quantile=.95):\n",
    "\n",
    "    print('original:')\n",
    "    plot(arr)\n",
    "\n",
    "    print(f'clipped {quantile}:')\n",
    "    top = np.quantile(arr, quantile)\n",
    "    bottom = np.quantile(arr, 1-quantile)\n",
    "    arr = [top if i > top else i if i > bottom else bottom for i in arr]\n",
    "    plot(arr)\n",
    "\n",
    "    print(f'averaged {ema} ema')\n",
    "    for i in range(1, len(arr)):\n",
    "        arr[i] = arr[i-1] * ema + (1-ema)*arr[i]\n",
    "    plot(arr)\n",
    "\n",
    "    print(f'derivative jump: {derivative_jump}')\n",
    "    for i in range(len(arr)-derivative_jump):\n",
    "        arr[i] = arr[i+derivative_jump] - arr[i]\n",
    "    arr = arr[:-derivative_jump]\n",
    "    plot(arr)\n",
    "\n",
    "    print('clipped below zero')\n",
    "    arr = [i if i > 0 else 0 for i in arr]\n",
    "    plot(arr)\n",
    "\n",
    "    quantile -= .05\n",
    "    top = np.quantile(arr, quantile)\n",
    "    print(f'quantile {quantile} {top}')\n",
    "    arr = [i if i < top else top for i in arr]\n",
    "    plot(arr)\n",
    "\n",
    "    print('binary')\n",
    "    middle = (max(arr) + min(arr)) * .5\n",
    "    arr = [i > middle for i in arr]\n",
    "    plot(arr)\n",
    "\n",
    "    count = 0\n",
    "    for i in range(1, len(arr)-1):\n",
    "        if not arr[i-1] and arr[i]:\n",
    "            count += 1\n",
    "    print(f\"counted: {count}\")\n",
    "\n",
    "    return count\n",
    "\n",
    "count_blades(ar[:,0])"
   ]
  },
  {
   "cell_type": "code",
   "execution_count": null,
   "id": "35e346f8",
   "metadata": {},
   "outputs": [],
   "source": [
    "1/(4095.0 * 0.707106781)"
   ]
  },
  {
   "cell_type": "code",
   "execution_count": null,
   "id": "396a7a55",
   "metadata": {},
   "outputs": [],
   "source": [
    "1/(5000*25/1e6)\n",
    "20/(4592*25/60e6)\n",
    "15*8"
   ]
  }
 ],
 "metadata": {
  "kernelspec": {
   "display_name": "Python 3",
   "language": "python",
   "name": "python3"
  },
  "language_info": {
   "codemirror_mode": {
    "name": "ipython",
    "version": 3
   },
   "file_extension": ".py",
   "mimetype": "text/x-python",
   "name": "python",
   "nbconvert_exporter": "python",
   "pygments_lexer": "ipython3",
   "version": "3.11.9"
  }
 },
 "nbformat": 4,
 "nbformat_minor": 5
}
